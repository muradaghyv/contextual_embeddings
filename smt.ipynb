{
 "cells": [
  {
   "cell_type": "markdown",
   "id": "d03b000b",
   "metadata": {},
   "source": [
    "# Using of Processor"
   ]
  },
  {
   "cell_type": "code",
   "execution_count": 1,
   "id": "a9e7195f",
   "metadata": {},
   "outputs": [],
   "source": [
    "from processor import Preprocessor\n",
    "from FlagEmbedding import BGEM3FlagModel"
   ]
  },
  {
   "cell_type": "code",
   "execution_count": 2,
   "id": "e2a681d1",
   "metadata": {},
   "outputs": [],
   "source": [
    "preprocessor = Preprocessor(filepath=\"ai_doc.pdf\")"
   ]
  },
  {
   "cell_type": "code",
   "execution_count": 3,
   "id": "a4ef396d",
   "metadata": {},
   "outputs": [],
   "source": [
    "text = preprocessor.read_text()"
   ]
  },
  {
   "cell_type": "code",
   "execution_count": 4,
   "id": "4a36b6a7",
   "metadata": {},
   "outputs": [],
   "source": [
    "clean_text = preprocessor.clean_text(text=text)"
   ]
  },
  {
   "cell_type": "code",
   "execution_count": 5,
   "id": "0da1bd80",
   "metadata": {},
   "outputs": [],
   "source": [
    "chunks = preprocessor.split_into_chunks(\n",
    "    text=clean_text, \n",
    "    max_chunk_size=600\n",
    ")"
   ]
  },
  {
   "cell_type": "code",
   "execution_count": 6,
   "id": "f570482b",
   "metadata": {},
   "outputs": [],
   "source": [
    "preprocessor.save_chunks(\n",
    "    chunks=chunks,\n",
    "    path=\"/home/murad/Documents/contextual_embeddings/chunks\"\n",
    ")"
   ]
  },
  {
   "cell_type": "code",
   "execution_count": 7,
   "id": "eda87296",
   "metadata": {},
   "outputs": [
    {
     "data": {
      "application/vnd.jupyter.widget-view+json": {
       "model_id": "d1dc363dcceb4308987710c325f01d34",
       "version_major": 2,
       "version_minor": 0
      },
      "text/plain": [
       "Fetching 30 files:   0%|          | 0/30 [00:00<?, ?it/s]"
      ]
     },
     "metadata": {},
     "output_type": "display_data"
    }
   ],
   "source": [
    "embedding_model = BGEM3FlagModel(model_name_or_path=\"BAAI/bge-m3\",\n",
    "                                 use_fp16=True)"
   ]
  },
  {
   "cell_type": "code",
   "execution_count": 8,
   "id": "6af48ce9",
   "metadata": {},
   "outputs": [
    {
     "name": "stderr",
     "output_type": "stream",
     "text": [
      "You're using a XLMRobertaTokenizerFast tokenizer. Please note that with a fast tokenizer, using the `__call__` method is faster than using a method to encode the text followed by a call to the `pad` method to get a padded encoding.\n"
     ]
    }
   ],
   "source": [
    "chunks_embeddings = embedding_model.encode(\n",
    "    sentences=chunks,\n",
    "    batch_size=12,\n",
    "    max_length=8192,\n",
    "    )['dense_vecs']"
   ]
  },
  {
   "cell_type": "code",
   "execution_count": 9,
   "id": "0aee413e",
   "metadata": {},
   "outputs": [
    {
     "name": "stdout",
     "output_type": "stream",
     "text": [
      "Using ChromaDB directory: /tmp/tmpanlo7h2f\n",
      "Successfully stored 37 chunks with embeddings.\n",
      "Database location: /tmp/tmpanlo7h2f\n"
     ]
    }
   ],
   "source": [
    "collection = preprocessor.create_database(\n",
    "    chunks=chunks,\n",
    "    embeddings=chunks_embeddings\n",
    ")"
   ]
  },
  {
   "cell_type": "code",
   "execution_count": 14,
   "id": "29016824",
   "metadata": {},
   "outputs": [],
   "source": [
    "query = \"Turinq testi nədir?\"\n",
    "query_embedding = embedding_model.encode(\n",
    "    sentences=query,\n",
    "    batch_size=12,\n",
    "    max_length=1024\n",
    ")[\"dense_vecs\"]\n",
    "query_embedding = query_embedding.tolist()"
   ]
  },
  {
   "cell_type": "code",
   "execution_count": 15,
   "id": "46f91309",
   "metadata": {},
   "outputs": [
    {
     "data": {
      "text/plain": [
       "{'ids': [['chunk_16',\n",
       "   'chunk_17',\n",
       "   'chunk_15',\n",
       "   'chunk_26',\n",
       "   'chunk_29',\n",
       "   'chunk_35',\n",
       "   'chunk_18',\n",
       "   'chunk_22',\n",
       "   'chunk_21',\n",
       "   'chunk_1']],\n",
       " 'embeddings': None,\n",
       " 'documents': [['Turinq, bir kompüterin süni zəkaya sahib ola biləcəyini və hakimi çaşdıracaq qədər inandırıcı ola biləcəyini iddia edir. Hakim, insanla yoxsa kompüterlə danışdığını anlamayacaq. Bu testə Turinq testi deyilir.Turinq testinin məqsədi və əhəmiyyəti Turinq testi, bir maşının insan səviyyəsində zəkaya sahib olub olmadığını ölçmək üçün bir meyardır. Testin məqsədi, bir maşının davranışının insan davranışına o qədər bənzəyib-bənzəmədiyini müəyyən etməkdir ki, onu ayırd etmək mümkün olmasın.',\n",
       "   'Turinq testi, süni zəka tədqiqatları sahəsində mühüm bir rol oynamış və bu sahədə bir çox müzakirəyə səbəb olmuşdur. Turinq testinin tənqidləri Turinq testi, süni zəkanın ölçülməsi üçün bir meyar olaraq tənqid edilmişdir. Bəzi tənqidçilər, testin yalnız bir maşının insan kimi davranma qabiliyyətini ölçdüyünü və həqiqi zəkanı ölçmədiyini iddia edir. Digər tənqidçilər isə testin subyektiv olduğunu və hakimin qərəzli ola biləcəyini iddia edir. Turinq testinin təsiri Turinq testi, süni zəka tədqiqatları sahəsində böyük təsirə malik olmuşdur.',\n",
       "   'Bunlardan bir neçəsi aşağıda qeyd olunmuşdur: T\\x03rinqtesti vəint\\x03itivyanaşma Modern kompüterlərin atası hesab edilən Alan Turinq, 1950-ci ildə \"Mind\" jurnalında nəşr olunan \"Hesablama Maşınları və Zəka\" adlı məqaləsində süni zəka ilə bağlı ilk düşüncələrini ortaya qoymuşdur. Bu məqalədə o, insan və kompüter arasında aparılan bir testdən bəhs edir. Bu testdə bir insan hakim rolunu oynayır və bir insanla bir kompüterlə sual-cavab aparır. Hakim, nə insanı, nə də kompüteri görə bilir.',\n",
       "   'Kompüter \"şüurluluğunun\" da hər hansı bir həddi yoxdur, lakin süni zəkanın yaradılmasına bir sıra hipofizlər verilib, bunlara da Turinq testini və Nyuel-Saymon hipofizini misal göstərmək olar. Ona görə də süni zəka probleminin qoyulmasına iki cür yaxınlaşmaq olar: Yuxarıdan aşağıya, semiotik – ekspert sistemlər, biliklər və məntiqi qərarlar bazası, yüksəksəviyyəli psixi prosesləri təqlid edən sistemlərin yaradılması, məsələn, düşüncə, danışıq, incəsənət və s.',\n",
       "   'Baxmayaraq ki, Nyuell-Saymon fərziyyəsi, yaxud Turinq testi kimi, bir sıra fərziyyələr irəli sürülmüşdü, kompüterin \"ağlabatan\" səvviyyəsinə qədər inkişaf etməsinin dəqiq sübutu yoxdur. Robotexnika Robotexnika sahəsi və süni zəka elmi bir-biri ilə sıx əlaqədardır. Robotexnikada süni zəkadan istifadə edib intellektual robotların yaradılması süni zəka elminin yeni bir sahəsini yaradır. İntellektuallıq üzərində cisimləri manipulyasıya etmək, olduğu yeri tapmaq, ətraf aləmi təhlil etmək və hərəkəti planlaşdırmaq üçün işləmək lazımdır.',\n",
       "   '· İllik RoboCup turnirində, robotların, futbolun sadələşdirilmiş formasında rəqabətin aparılması. · Virtual söhbət proqramları. ChatMaster- Virtual söhbət proqramları insan danışığını təqlid edən, bir və daha çox insanla söhbət edən kompüter proqramıdır. İlk belə proqramlardan biri 1969-cu ildə Cozef Beyzenbaum tərəfindən yaradılan Eliza proqramı olmuşdur. Belə düşünülür ki, ideal virtual söhbət proqramı Turinq testini keçə biləcək. Chatmaster özü-özünü öyrədə bilən, insanla dialoq apara bilən proqramdır. Dialoq klaviatura ilə aparılır və ekranda əks etdirilir.',\n",
       "   'Test, bu sahədə bir çox tədqiqat və inkişafa ilham vermiş və süni zəkanın nə olduğu və necə ölçülməsi lazım olduğu barədə müzakirələrə səbəb olmuşdur. Simvolikyanaşma Süni zəka probleminə simvolik yanaşma ilk rəqəmsal maşınların yaranması dövründə yaranıb. Bu yanaşmada problemlərin həllinin tapılmasının uğur və səmərəliyi üçün informasiyanın abstraktlığı vacibdir. Məntiqiyanaşma Süni zəka sisteminin yaradılmasına məntiqi yanaşma modelləşdirilmiş mühakiməyə əsaslanır. Teorik əsas kimi məntiqə əsaslanır.',\n",
       "   'Müəllimsiz öyrənmə cisimləri olduğu kimi qavramağa icazə verir. Müəllim ilə öyrənmə isə sinifləndirməyə və reqressiv analizə kömək edir. Sinifləndirmə onun üçün istifadə olunur ki, cismin hansı kateqoriyaya aid olduğu aydınlaşdırılsın. Reqressiv analiz isə ədədi sıralarda giriş ədədlərindən istifadə olunan funksiya tapılması ilə çıxış ədədinin proqnozlaşması üçün istifadə olunur. Təlim prosesi zamanı maşının düzgün cavabları mükafatlandırılır, yanlış cavabları isə cəzalandırılır. Müasir dövrdəki süni zəkanın əsası 1956-cı ildəDartmut Kollecində keçirilən konferensiyada qoyulmuşdur.',\n",
       "   'Ars Maqnaya istifadəçi xristianlıq haqqında öz sualını daxil edir və aparat insanın köməyi olmadan dərhal avtomatik olaraq bu suala cavab tapırdı. Bu aparat müsəlmanları xristianlaşdırmaq məqsədilə yaradılmışdır. Maşınların təlimi sərbəst şəkildə süni zəka biliklərinin və onun işləmə proseslərinin alınmasına aiddir. Bu süni zəka elminin ilk dövrlərindən mərkəzi olmuşdur. 1956-cı ildə Darmund yaz konferansında Rey Solomonoff öz-özünü öyrədə bilən maşının ola biləcəyi haqqında hesabat yazdı və onu \"İntuitiv nəticə maşını\" adlandırdı. Maşın təliminin iki növü vardır; müəllimsiz və müəllim ilə.',\n",
       "   'AI) — insanların və ya heyvanların intellektindən fərqli olaraq maşın və ya proqram təminatının intellekti.[1] Süni intellekt tətbiqlərinə qabaqcılveb axtarış mühərrikləri (Quql axtarış sistemi), tövsiyə sistemləri (\"YouTube\", \"Amazon\" və \"Netflix\" tərəfindən istifadə olunur),virtual assistentlər (\"Siri\" və \"Alexa\" kimi), özügedən avtomobillər (\"Waymo\"), generativ və ya yaradıcı alətlər (\"ChatGPT\" və süni intellekt incəsənəti), strateji oyunlarda (şahmat və Qo kimi) ən yüksək səviyyədə yarışmaq daxildir.[2] Süni intellekt 1956-cı ildə akademik fənn kimi təsis edilmişdir.] Bu sahə optimizm dövrlərindən keçmiş, sonradan məyusluq və maliyyə itkisi yaşamış, lakin 2012-ci ildən sonra dərin öyrənmə bütün əvvəlki süni intellekt üsullarını üstələmiş,[8] beləliklə bu sahədə maliyyələşmə və maraqda böyük artım müşahidə edilmişdir.']],\n",
       " 'uris': None,\n",
       " 'included': ['distances', 'metadatas', 'documents'],\n",
       " 'data': None,\n",
       " 'metadatas': [[{'source': 'chunk_16.txt'},\n",
       "   {'source': 'chunk_17.txt'},\n",
       "   {'source': 'chunk_15.txt'},\n",
       "   {'source': 'chunk_26.txt'},\n",
       "   {'source': 'chunk_29.txt'},\n",
       "   {'source': 'chunk_35.txt'},\n",
       "   {'source': 'chunk_18.txt'},\n",
       "   {'source': 'chunk_22.txt'},\n",
       "   {'source': 'chunk_21.txt'},\n",
       "   {'source': 'chunk_1.txt'}]],\n",
       " 'distances': [[0.6030175089836121,\n",
       "   0.7155271172523499,\n",
       "   0.9340218901634216,\n",
       "   1.0694876909255981,\n",
       "   1.128892421722412,\n",
       "   1.1649219989776611,\n",
       "   1.1951366662979126,\n",
       "   1.2234618663787842,\n",
       "   1.2296816110610962,\n",
       "   1.237381935119629]]}"
      ]
     },
     "execution_count": 15,
     "metadata": {},
     "output_type": "execute_result"
    }
   ],
   "source": [
    "collection.query(\n",
    "    query_embeddings=query_embedding,\n",
    "    n_results=10,\n",
    "    include=[\"distances\", \"metadatas\", \"documents\"]\n",
    ")"
   ]
  },
  {
   "cell_type": "code",
   "execution_count": null,
   "id": "d87a7b74",
   "metadata": {},
   "outputs": [],
   "source": []
  }
 ],
 "metadata": {
  "kernelspec": {
   "display_name": "nlp",
   "language": "python",
   "name": "python3"
  },
  "language_info": {
   "codemirror_mode": {
    "name": "ipython",
    "version": 3
   },
   "file_extension": ".py",
   "mimetype": "text/x-python",
   "name": "python",
   "nbconvert_exporter": "python",
   "pygments_lexer": "ipython3",
   "version": "3.10.16"
  }
 },
 "nbformat": 4,
 "nbformat_minor": 5
}
