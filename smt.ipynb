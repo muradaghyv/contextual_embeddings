{
 "cells": [
  {
   "cell_type": "markdown",
   "id": "d03b000b",
   "metadata": {},
   "source": [
    "# Using of Processor"
   ]
  },
  {
   "cell_type": "markdown",
   "id": "aca5e103",
   "metadata": {},
   "source": [
    "## New Document"
   ]
  },
  {
   "cell_type": "code",
   "execution_count": 1,
   "id": "b5c28c3c",
   "metadata": {},
   "outputs": [],
   "source": [
    "from processor import Preprocessor\n",
    "from FlagEmbedding import BGEM3FlagModel\n",
    "from transformers import XLMRobertaTokenizer, XLMRobertaModel\n",
    "import torch"
   ]
  },
  {
   "cell_type": "code",
   "execution_count": 2,
   "id": "1770dee1",
   "metadata": {},
   "outputs": [],
   "source": [
    "preprocessor = Preprocessor(\"sample_doc.pdf\")"
   ]
  },
  {
   "cell_type": "code",
   "execution_count": 3,
   "id": "913b647f",
   "metadata": {},
   "outputs": [],
   "source": [
    "text = preprocessor.read_text()"
   ]
  },
  {
   "cell_type": "code",
   "execution_count": 4,
   "id": "b882d35e",
   "metadata": {},
   "outputs": [],
   "source": [
    "clean_text = preprocessor.clean_text(text=text)"
   ]
  },
  {
   "cell_type": "code",
   "execution_count": 5,
   "id": "70cce13c",
   "metadata": {},
   "outputs": [],
   "source": [
    "chunks = preprocessor.split_into_chunks(text=clean_text)"
   ]
  },
  {
   "cell_type": "code",
   "execution_count": 6,
   "id": "05afccfd",
   "metadata": {},
   "outputs": [],
   "source": [
    "preprocessor.save_chunks(chunks=chunks, path=\"/home/murad/Documents/self-study/contextual_embeddings/chunks\")"
   ]
  },
  {
   "cell_type": "code",
   "execution_count": 7,
   "id": "d32eac21",
   "metadata": {},
   "outputs": [],
   "source": [
    "xlm_tokenizer = XLMRobertaTokenizer.from_pretrained(\"xlm-roberta-base\")\n",
    "xlm_model = XLMRobertaModel.from_pretrained(\"xlm-roberta-base\")"
   ]
  },
  {
   "cell_type": "code",
   "execution_count": 8,
   "id": "40fe2ec6",
   "metadata": {},
   "outputs": [
    {
     "data": {
      "application/vnd.jupyter.widget-view+json": {
       "model_id": "16302ab0b9fa4d51a88b3a2accbd75b4",
       "version_major": 2,
       "version_minor": 0
      },
      "text/plain": [
       "Fetching 30 files:   0%|          | 0/30 [00:00<?, ?it/s]"
      ]
     },
     "metadata": {},
     "output_type": "display_data"
    }
   ],
   "source": [
    "bge_model = BGEM3FlagModel(model_name_or_path=\"BAAI/bge-m3\",\n",
    "                           use_fp_16=True)"
   ]
  },
  {
   "cell_type": "markdown",
   "id": "0feb6877",
   "metadata": {},
   "source": [
    "### XLM RoBERTa comparison"
   ]
  },
  {
   "cell_type": "code",
   "execution_count": 9,
   "id": "9cb9a7aa",
   "metadata": {},
   "outputs": [],
   "source": [
    "xlm_model.eval()\n",
    "xlm_embeddings = []\n",
    "\n",
    "with torch.no_grad():\n",
    "    for chunk in chunks:\n",
    "        inputs = xlm_tokenizer(chunk, return_tensors=\"pt\", padding=True)\n",
    "        outputs = xlm_model(**inputs)\n",
    "        chunk_embedding = outputs.last_hidden_state[:, 0, :]\n",
    "        xlm_embeddings.append(chunk_embedding)"
   ]
  },
  {
   "cell_type": "code",
   "execution_count": 10,
   "id": "610f0d3a",
   "metadata": {},
   "outputs": [
    {
     "name": "stdout",
     "output_type": "stream",
     "text": [
      "Using ChromaDB directory: /tmp/tmpp2y4j9dy\n",
      "Successfully stored 27 chunks with embeddings.\n",
      "Database location: /tmp/tmpp2y4j9dy\n"
     ]
    }
   ],
   "source": [
    "xlm_collection = preprocessor.create_database(chunks=chunks,\n",
    "                                              embeddings=xlm_embeddings)"
   ]
  },
  {
   "cell_type": "code",
   "execution_count": 11,
   "id": "df795629",
   "metadata": {},
   "outputs": [],
   "source": [
    "query = \"Nəzarətsiz öyrənmə nədir?\""
   ]
  },
  {
   "cell_type": "code",
   "execution_count": 12,
   "id": "5904ee2c",
   "metadata": {},
   "outputs": [],
   "source": [
    "xlm_model.eval()\n",
    "\n",
    "with torch.no_grad():\n",
    "    inputs = xlm_tokenizer(query, return_tensors=\"pt\", padding=True)\n",
    "    outputs = xlm_model(**inputs)\n",
    "    query_embedding = outputs.last_hidden_state[:, 0, :].squeeze(0).numpy().tolist()"
   ]
  },
  {
   "cell_type": "code",
   "execution_count": 13,
   "id": "546ddb50",
   "metadata": {},
   "outputs": [],
   "source": [
    "xlm_result = xlm_collection.query(\n",
    "    query_embeddings = query_embedding,\n",
    "    n_results=5,\n",
    "    include=[\"distances\", \"metadatas\", \"documents\"]\n",
    ")"
   ]
  },
  {
   "cell_type": "code",
   "execution_count": 14,
   "id": "f6b77e06",
   "metadata": {},
   "outputs": [
    {
     "data": {
      "text/plain": [
       "[['Kompüter Görmə Modelləri və Alqoritmləri Kompüter görmə sahəsində istifadə olunan əsas modellər və alqoritmlər aşağıdakılardır:• Konvolyusional Sinir Şəbəkələri (CNN): Görüntülərin təsnifatı və obyekt tanıma üçün ən geniş istifadə olunan dərin öyrənmə modeli. • YOLO (You Only Look Once): Real vaxt rejimində obyekt tanıma üçün istifadə olunan model. • R-CNN (Region-based CNN): Görüntüdəki obyektlərin yerini təyin etmək və tanımaq üçün istifadə olunan model. • U-Net: Tibbi görüntülərdə seqmentasiya üçün istifadə olunan model. • OpenPose: İnsan bədən quruluşunu təyin etmək üçün istifadə olunan model. • Face Recognition: Üz tanıma üçün istifadə olunan modellər və alqoritmlər. 6.3. Azərbaycanda Kompüter Görmənin Tətbiqi Azərbaycanda kompüter görmə texnologiyaları müxtəlif sahələrdə tətbiq olunur: • Təhlükəsizlik: Videomüşahidə sistemlərində üz tanıma, şübhəli davranışların aşkarlanması. • Nəqliyyat: Avtomobil nömrələrinin tanınması, trafik monitorinqi, sürət pozuntularının aşkarlanması.',\n",
       "  '• Kənd təsərrüfatı: Bitkilərin vəziyyətinin monitorinqi, xəstəliklərin aşkarlanması, məhsul yığımının avtomatlaşdırılması. • Tibb: Tibbi görüntülərin (MRT, KT) təhlili, xəstəliklərin diaqnostikası. • Pərakəndə satış: Rəflərin monitorinqi, müştəri davranışının təhlili. • İstehsalat: Keyfiyyətə nəzarət, istehsal proseslərinin avtomatlaşdırılması. Azərbaycanda kompüter görmə sahəsində həyata keçirilən layihələrə aşağıdakılar daxildir: • \"Təhlükəsiz şəhər\": Bakı və digər şəhərlərdə videomüşahidə sistemlərinin tətbiqi və üz tanıma texnologiyalarından istifadə. • \"Ağıllı nəqliyyat\": Trafik axınını optimallaşdırmaq üçün videoanalizdən istifadə. • \"Rəqəmsal kənd təsərrüfatı\": Dronlardan istifadə edərək əkin sahələrinin monitorinqi və xəstəliklərin aşkarlanması. • Tibbi diaqnostika sistemləri: Tibbi görüntülərin avtomatik təhlili üçün sistemlərin yaradılması. 7.',\n",
       "  'Azərbaycan universitetlərində məlumat elmi üzrə təhsil proqramları təqdim edilir və bu sahədə mütəxəssislərin hazırlanması prosesi davam edir. Bundan əlavə, bir sıra özəl təlim mərkəzləri də məlumat elmi və maşın öyrənməsi üzrə kurslar təşkil edirlər. Azərbaycanda məlumat elminin əsas tətbiq sahələri aşağıdakılardır: • Maliyyə və bank sektoru: Kredit risklərinin qiymətləndirilməsi, fırıldaqçılığın aşkarlanması, müştəri seqmentasiyası. • Telekommunikasiya: Şəbəkə idarəetməsi, müştəri davranışının təhlili, xidmət keyfiyyətinin proqnozlaşdırılması. • Neft və qaz sənayesi: Hasilat proseslərinin optimallaşdırılması, avadanlıqların profilaktik texniki xidməti, riskin qiymətləndirilməsi. • E-ticarət: Məhsul tövsiyələri, müştəri davranışının təhlili, tələbin proqnozlaşdırılması. • Dövlət sektoru: Vətəndaşlara xidmətlərin təkmilləşdirilməsi, resurların bölüşdürülməsinin optimallaşdırılması, dövlət siyasətinin qiymətləndirilməsi. 4.',\n",
       "  '• Tibb: Tibbi sənədlərin avtomatik emalı və təsnifatı. 6. Kompüter Görmə (Computer Vision) və Azərbaycanda Tətbiqi Kompüter görmə, kompüterlərin rəqəmsal görüntüləri və ya videoları başa düşmək və emal etmək qabiliyyətini təmin edən süni intellekt sahəsidir. Bu sahə, obyekt tanıma, üz tanıma, təsvir təsnifatı, hərəkət təhlili və s. kimi tətbiqləri əhatə edir. 6.1. Kompüter Görmənin Əsas Komponentləri Kompüter görmə bir neçə əsas komponenti əhatə edir: • Görüntü əldə etmə: Rəqəmsal kameralar və ya sensorlar vasitəsilə görüntülərin toplanması. • Görüntü emalı: Görüntülərin keyfiyyətinin artırılması, küydən təmizlənməsi və xüsusiyyətlərinin çıxarılması. • Obyekt tanıma: Görüntüdəki obyektlərin tanınması və təsnifatı. • Səhnə təhlili: Görüntüdəki obyektlər arasındakı əlaqələrin və kontekstin başa düşülməsi. • Hərəkət təhlili: Video görüntülərində obyektlərin hərəkətinin izlənməsi və təhlili. 6.2.',\n",
       "  'Gücləndirilmiş Öyrənmə (Reinforcement Learning) Gücləndirilmiş öyrənmədə, agent ətraf mühitlə qarşılıqlı əlaqədə olaraq, aldığı mükafat və ya cəzalara əsasən optimal strategiyanı öyrənir. Bu növ öyrənmə, oyunlar, robot idarəetməsi və avtomatik ticarət kimi sahələrdə istifadə olunur. Əsas gücləndirilmiş öyrənmə alqoritmlərinə aşağıdakılar daxildir: • Q-Learning: Agent müxtəlif vəziyyətlərdə fərqli hərəkətlərin dəyərini öyrənir. • Deep Q Network (DQN): Q-learning alqoritmini dərin sinir şəbəkələri ilə birləşdirir. • Policy Gradient Methods: Agentin davranış siyasətini birbaşa optimallaşdırır. 4.4. Dərin Öyrənmə (Deep Learning) Dərin öyrənmə, çoxqatlı sinir şəbəkələrindən istifadə edərək böyük həcmli və kompleks məlumatları emal etmək üçün istifadə olunan maşın öyrənməsinin bir alt sahəsidir. Əsas dərin öyrənmə modellərinə aşağıdakılar daxildir: • Konvolyusional Sinir Şəbəkələri (Convolutional Neural Networks, CNN): Təsvirlərin emalı və tanınması üçün istifadə olunur.']]"
      ]
     },
     "execution_count": 14,
     "metadata": {},
     "output_type": "execute_result"
    }
   ],
   "source": [
    "xlm_result[\"documents\"]"
   ]
  },
  {
   "cell_type": "markdown",
   "id": "e4b2cbae",
   "metadata": {},
   "source": [
    "### BGE-M3 Model"
   ]
  },
  {
   "cell_type": "code",
   "execution_count": 15,
   "id": "ed228316",
   "metadata": {},
   "outputs": [
    {
     "name": "stderr",
     "output_type": "stream",
     "text": [
      "You're using a XLMRobertaTokenizerFast tokenizer. Please note that with a fast tokenizer, using the `__call__` method is faster than using a method to encode the text followed by a call to the `pad` method to get a padded encoding.\n"
     ]
    }
   ],
   "source": [
    "bge_embeddings = bge_model.encode(\n",
    "    sentences=chunks,\n",
    "    batch_size=12,\n",
    "    max_length=8192\n",
    ")[\"dense_vecs\"]"
   ]
  },
  {
   "cell_type": "code",
   "execution_count": 16,
   "id": "a29c3490",
   "metadata": {},
   "outputs": [
    {
     "name": "stdout",
     "output_type": "stream",
     "text": [
      "Using ChromaDB directory: /tmp/tmpa1i8k73z\n",
      "Successfully stored 27 chunks with embeddings.\n",
      "Database location: /tmp/tmpa1i8k73z\n"
     ]
    }
   ],
   "source": [
    "bge_collection = preprocessor.create_database(\n",
    "    chunks=chunks,\n",
    "    embeddings=bge_embeddings\n",
    ")"
   ]
  },
  {
   "cell_type": "code",
   "execution_count": 17,
   "id": "4922067d",
   "metadata": {},
   "outputs": [],
   "source": [
    "query_embedding_bge = bge_model.encode(\n",
    "    sentences=query,\n",
    "    batch_size=12,\n",
    "    max_length=1024\n",
    ")[\"dense_vecs\"]\n",
    "query_embedding_bge = query_embedding_bge.tolist()"
   ]
  },
  {
   "cell_type": "code",
   "execution_count": 18,
   "id": "0eb72254",
   "metadata": {},
   "outputs": [],
   "source": [
    "bge_result = bge_collection.query(\n",
    "    query_embeddings=query_embedding_bge,\n",
    "    n_results=5,\n",
    "    include=[\"distances\", \"metadatas\", \"documents\"]\n",
    ")"
   ]
  },
  {
   "cell_type": "code",
   "execution_count": 19,
   "id": "7b63c828",
   "metadata": {},
   "outputs": [
    {
     "data": {
      "text/plain": [
       "[['• Dəstək Vektor Maşınları (Support Vector Machines): Məlumatları müxtəlif kateqoriyalara ayıran optimal hiperplanlər tapır. • K-ən Yaxın Qonşu (K-Nearest Neighbors): Yeni nümunələri ən yaxın qonşularının xüsusiyyətlərinə əsasən təsnif edir. 4.2. Nəzarətsiz Öyrənmə (Unsupervised Learning) Nəzarətsiz öyrənmədə, alqoritm yalnız giriş məlumatları əsasında öyrənir və bu məlumatlardakı struktur və əlaqələri aşkar etməyə çalışır. Bu növ öyrənmə, məlumatların klasterləşdirilməsi və ya gizli strukturların aşkarlanması üçün faydalıdır. Əsas nəzarətsiz öyrənmə alqoritmlərinə aşağıdakılar daxildir: • K-Means: Məlumatları K sayda klasterə bölür və hər bir nöqtəni ən yaxın klaster mərkəzinə aid edir. • Hierarchical Clustering: Məlumatları iyerarxik struktura malik klasterlərə bölür. • Principal Component Analysis (PCA): Məlumatların ölçülərini azaldaraq əsas komponentləri saxlayır. • Association Rule Learning: Məlumatlar arasındakı əlaqə qaydalarını aşkar edir, məsələn, birlikdə alınan məhsulları təyin etmək üçün. 4.3.',\n",
       "  'Maşın Öyrənməsi Alqoritmləri və Modelləri Maşın öyrənməsi alqoritmləri və modelləri, kompüterlərin məlumatlar əsasında öyrənmək və proqnozlar vermək qabiliyyətini təmin edir. Bu alqoritmlər müxtəlif kateqoriyalara bölünür: 4.1. Nəzarətli Öyrənmə (Supervised Learning) Nəzarətli öyrənmədə, alqoritm giriş məlumatları və onlara uyğun çıxış nəticələri əsasında öyrənir. Məqsəd, yeni giriş məlumatları üçün dəqiq çıxış nəticələrini proqnozlaşdıra bilən bir model yaratmaqdır.Əsas nəzarətli öyrənmə alqoritmlərinə aşağıdakılar daxildir: • Xətti Reqressiya (Linear Regression): Bir və ya bir neçə müstəqil dəyişən əsasında asılı dəyişəni proqnozlaşdırmaq üçün istifadə olunur. • Loqistik Reqressiya (Logistic Regression): İkili təsnifat problemləri üçün istifadə olunur, məsələn, e-poçtun spam olub-olmadığını təyin etmək. • Qərar Ağacları (Decision Trees): Məlumatları bir sıra qərar qaydalarına əsaslanaraq təsnif edir. • Təsadüfi Meşə (Random Forest): Bir çox qərar ağacının nəticələrini birləşdirərək daha dəqiq proqnozlar verir.',\n",
       "  'Gücləndirilmiş Öyrənmə (Reinforcement Learning) Gücləndirilmiş öyrənmədə, agent ətraf mühitlə qarşılıqlı əlaqədə olaraq, aldığı mükafat və ya cəzalara əsasən optimal strategiyanı öyrənir. Bu növ öyrənmə, oyunlar, robot idarəetməsi və avtomatik ticarət kimi sahələrdə istifadə olunur. Əsas gücləndirilmiş öyrənmə alqoritmlərinə aşağıdakılar daxildir: • Q-Learning: Agent müxtəlif vəziyyətlərdə fərqli hərəkətlərin dəyərini öyrənir. • Deep Q Network (DQN): Q-learning alqoritmini dərin sinir şəbəkələri ilə birləşdirir. • Policy Gradient Methods: Agentin davranış siyasətini birbaşa optimallaşdırır. 4.4. Dərin Öyrənmə (Deep Learning) Dərin öyrənmə, çoxqatlı sinir şəbəkələrindən istifadə edərək böyük həcmli və kompleks məlumatları emal etmək üçün istifadə olunan maşın öyrənməsinin bir alt sahəsidir. Əsas dərin öyrənmə modellərinə aşağıdakılar daxildir: • Konvolyusional Sinir Şəbəkələri (Convolutional Neural Networks, CNN): Təsvirlərin emalı və tanınması üçün istifadə olunur.',\n",
       "  '• Rekurrent Sinir Şəbəkələri (Recurrent Neural Networks, RNN): Ardıcıl məlumatların emalı üçün istifadə olunur, məsələn, mətn və ya zaman seriyası. • Long Short-Term Memory (LSTM): RNN-in bir növüdür və uzunmüddətli asılılıqları öyrənmək qabiliyyətinə malikdir. • Transformer: Diqqət mexanizmlərinə əsaslanan və təbii dil emalında geniş istifadə olunan model. • Generative Adversarial Networks (GAN): Yeni məlumatlar generasiya etmək üçün istifadə olunan iki sinir şəbəkəsinin qarşılıqlı rəqabətinə əsaslanan model. Azərbaycanda bu alqoritmlərin və modellərin tətbiqi müxtəlif sahələrdə həyata keçirilir. Məsələn, banklar kredit skorinq sistemlərində nəzarətli öyrənmə metodlarından, pərakəndə satış şirkətləri müştəri seqmentasiyası üçün nəzarətsiz öyrənmə metodlarından, oyun və əyləncə sənayesi isə gücləndirilmiş öyrənmə metodlarından istifadə edir. Dərin öyrənmə modelləri isə əsasən təsvir və mətn tanıma, təbii dil emalı və səs tanıma kimi sahələrdə tətbiq olunur. 5.',\n",
       "  'Azərbaycanda Süni İntellekt və Maşın Öyrənməsi: Tarixi, İnkişafı və Gələcəyi 1. Giriş Süni intellekt (Sİ) və maşın öyrənməsi (MÖ) sahələri son illərdə bütün dünyada sürətlə inkişaf edir. Bu inkişaf Azərbaycanda da özünü göstərməkdədir. Süni intellekt, kompüterlərin insan zəkası tələb edən tapşırıqları yerinə yetirmək qabiliyyətidir. Bu, görüntüləri tanımaq, danışığı başa düşmək, qərarlar vermək və təbii dildə ünsiyyət qurmaq kimi bacarıqları əhatə edir. Maşın öyrənməsi isə kompüterlərin məlumatlar əsasında öyrənmək və təkmilləşmək qabiliyyətidir. Bu, təcrübədən öyrənən və davamlı olaraq təkmilləşən sistemlərin yaradılmasına imkan verir. Süni intellekt və maşın öyrənməsi bir çox sahələrdə, o cümlədən səhiyyə, maliyyə, təhsil və nəqliyyatda inqilabi dəyişikliklərə səbəb olur. Azərbaycan, öz rəqəmsal transformasiya strategiyası çərçivəsində süni intellekt və maşın öyrənməsi texnologiyalarının tətbiqinə və inkişafına xüsusi diqqət yetirir.']]"
      ]
     },
     "execution_count": 19,
     "metadata": {},
     "output_type": "execute_result"
    }
   ],
   "source": [
    "bge_result[\"documents\"]"
   ]
  },
  {
   "cell_type": "code",
   "execution_count": null,
   "id": "353f8ebf",
   "metadata": {},
   "outputs": [],
   "source": []
  }
 ],
 "metadata": {
  "kernelspec": {
   "display_name": "rag",
   "language": "python",
   "name": "python3"
  },
  "language_info": {
   "codemirror_mode": {
    "name": "ipython",
    "version": 3
   },
   "file_extension": ".py",
   "mimetype": "text/x-python",
   "name": "python",
   "nbconvert_exporter": "python",
   "pygments_lexer": "ipython3",
   "version": "3.10.15"
  }
 },
 "nbformat": 4,
 "nbformat_minor": 5
}
