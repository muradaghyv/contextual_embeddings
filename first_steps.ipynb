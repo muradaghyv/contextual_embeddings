{
 "cells": [
  {
   "cell_type": "code",
   "execution_count": 1,
   "id": "3c7005d9",
   "metadata": {},
   "outputs": [],
   "source": [
    "from preprocessor import Preprocessor\n",
    "from FlagEmbedding import BGEM3FlagModel\n",
    "from transformers import XLMRobertaModel, XLMRobertaTokenizer\n",
    "from sentence_transformers import SentenceTransformer\n",
    "import torch"
   ]
  },
  {
   "cell_type": "code",
   "execution_count": 2,
   "id": "c154b3da",
   "metadata": {},
   "outputs": [],
   "source": [
    "preprocessor = Preprocessor(filepath=\"sample_doc.pdf\")"
   ]
  },
  {
   "cell_type": "code",
   "execution_count": 3,
   "id": "b6104f5d",
   "metadata": {},
   "outputs": [],
   "source": [
    "text = preprocessor.read_text()"
   ]
  },
  {
   "cell_type": "code",
   "execution_count": 4,
   "id": "cb061ddd",
   "metadata": {},
   "outputs": [],
   "source": [
    "clean_text = preprocessor.clean_text(text=text)"
   ]
  },
  {
   "cell_type": "code",
   "execution_count": 5,
   "id": "dcac95fe",
   "metadata": {},
   "outputs": [],
   "source": [
    "chunks = preprocessor.split_into_chunks(text=clean_text)"
   ]
  },
  {
   "cell_type": "code",
   "execution_count": 6,
   "id": "71401615",
   "metadata": {},
   "outputs": [],
   "source": [
    "preprocessor.save_chunks(chunks=chunks,\n",
    "                         path=\"/home/murad/Documents/self-study/contextual_embeddings/chunks\")"
   ]
  },
  {
   "cell_type": "code",
   "execution_count": 7,
   "id": "53c95363",
   "metadata": {},
   "outputs": [],
   "source": [
    "xlm_tokenizer = XLMRobertaTokenizer.from_pretrained(\"xlm-roberta-base\")\n",
    "xlm_model = XLMRobertaModel.from_pretrained(\"xlm-roberta-base\")"
   ]
  },
  {
   "cell_type": "code",
   "execution_count": 8,
   "id": "9802d4f3",
   "metadata": {},
   "outputs": [
    {
     "data": {
      "application/vnd.jupyter.widget-view+json": {
       "model_id": "78427517e10947168e782c1b7f9fd4d7",
       "version_major": 2,
       "version_minor": 0
      },
      "text/plain": [
       "Fetching 30 files:   0%|          | 0/30 [00:00<?, ?it/s]"
      ]
     },
     "metadata": {},
     "output_type": "display_data"
    }
   ],
   "source": [
    "bge_model = BGEM3FlagModel(model_name_or_path=\"BAAI/bge-m3\",\n",
    "                           use_fp16=True)"
   ]
  },
  {
   "cell_type": "code",
   "execution_count": 9,
   "id": "895dba51",
   "metadata": {},
   "outputs": [
    {
     "data": {
      "application/vnd.jupyter.widget-view+json": {
       "model_id": "ea59d3b0622e459bb939328e09d8c2b9",
       "version_major": 2,
       "version_minor": 0
      },
      "text/plain": [
       "config.json:   0%|          | 0.00/804 [00:00<?, ?B/s]"
      ]
     },
     "metadata": {},
     "output_type": "display_data"
    },
    {
     "data": {
      "application/vnd.jupyter.widget-view+json": {
       "model_id": "6a63f5f8383c43b8876ec6eb965a8469",
       "version_major": 2,
       "version_minor": 0
      },
      "text/plain": [
       "model.safetensors:   0%|          | 0.00/1.88G [00:00<?, ?B/s]"
      ]
     },
     "metadata": {},
     "output_type": "display_data"
    },
    {
     "data": {
      "application/vnd.jupyter.widget-view+json": {
       "model_id": "6e424bf7dce44f3d942042e8d92a672e",
       "version_major": 2,
       "version_minor": 0
      },
      "text/plain": [
       "tokenizer_config.json:   0%|          | 0.00/397 [00:00<?, ?B/s]"
      ]
     },
     "metadata": {},
     "output_type": "display_data"
    },
    {
     "data": {
      "application/vnd.jupyter.widget-view+json": {
       "model_id": "b98bd10525e94f8ea02534737cf06049",
       "version_major": 2,
       "version_minor": 0
      },
      "text/plain": [
       "vocab.txt:   0%|          | 0.00/5.22M [00:00<?, ?B/s]"
      ]
     },
     "metadata": {},
     "output_type": "display_data"
    },
    {
     "data": {
      "application/vnd.jupyter.widget-view+json": {
       "model_id": "64996667b58c4a2bae0dc5e3bae532bb",
       "version_major": 2,
       "version_minor": 0
      },
      "text/plain": [
       "tokenizer.json:   0%|          | 0.00/9.62M [00:00<?, ?B/s]"
      ]
     },
     "metadata": {},
     "output_type": "display_data"
    },
    {
     "data": {
      "application/vnd.jupyter.widget-view+json": {
       "model_id": "0dd04338a7214fcd80b82fc67ab6f0a5",
       "version_major": 2,
       "version_minor": 0
      },
      "text/plain": [
       "special_tokens_map.json:   0%|          | 0.00/112 [00:00<?, ?B/s]"
      ]
     },
     "metadata": {},
     "output_type": "display_data"
    },
    {
     "data": {
      "application/vnd.jupyter.widget-view+json": {
       "model_id": "995d37a05297440cb454439ca4504476",
       "version_major": 2,
       "version_minor": 0
      },
      "text/plain": [
       "config.json:   0%|          | 0.00/190 [00:00<?, ?B/s]"
      ]
     },
     "metadata": {},
     "output_type": "display_data"
    },
    {
     "data": {
      "application/vnd.jupyter.widget-view+json": {
       "model_id": "6d8e774ccfab401f81a3221ccab7301e",
       "version_major": 2,
       "version_minor": 0
      },
      "text/plain": [
       "model.safetensors:   0%|          | 0.00/2.36M [00:00<?, ?B/s]"
      ]
     },
     "metadata": {},
     "output_type": "display_data"
    },
    {
     "data": {
      "application/vnd.jupyter.widget-view+json": {
       "model_id": "f401fff73b034b588d23459802df4dfc",
       "version_major": 2,
       "version_minor": 0
      },
      "text/plain": [
       "config.json:   0%|          | 0.00/114 [00:00<?, ?B/s]"
      ]
     },
     "metadata": {},
     "output_type": "display_data"
    },
    {
     "data": {
      "application/vnd.jupyter.widget-view+json": {
       "model_id": "6115a3f0e3534ab7aa432b158e32808d",
       "version_major": 2,
       "version_minor": 0
      },
      "text/plain": [
       "pytorch_model.bin:   0%|          | 0.00/2.36M [00:00<?, ?B/s]"
      ]
     },
     "metadata": {},
     "output_type": "display_data"
    }
   ],
   "source": [
    "labse_model = SentenceTransformer(\"sentence-transformers/LaBSE\")"
   ]
  },
  {
   "cell_type": "markdown",
   "id": "e5f1663d",
   "metadata": {},
   "source": [
    "## XLM-RoBERTa"
   ]
  },
  {
   "cell_type": "code",
   "execution_count": 10,
   "id": "4af9bd13",
   "metadata": {},
   "outputs": [],
   "source": [
    "xlm_model.eval()\n",
    "xlm_embeddings = []\n",
    "\n",
    "with torch.no_grad():\n",
    "    for chunk in chunks:\n",
    "        inputs = xlm_tokenizer(chunk, return_tensors=\"pt\", padding=True)\n",
    "        outputs = xlm_model(**inputs)\n",
    "        chunk_embedding = outputs.last_hidden_state[:, 0, :]\n",
    "        xlm_embeddings.append(chunk_embedding)"
   ]
  },
  {
   "cell_type": "code",
   "execution_count": 11,
   "id": "0da5e242",
   "metadata": {},
   "outputs": [
    {
     "name": "stdout",
     "output_type": "stream",
     "text": [
      "Using ChromaDB directory: /home/murad/Documents/contextual_embeddings/databases/xlm_collection\n",
      "Successfully stored 27 chunks with embeddings.\n",
      "Database location: /home/murad/Documents/contextual_embeddings/databases/xlm_collection\n"
     ]
    }
   ],
   "source": [
    "xlm_collection = preprocessor.create_database(chunks=chunks,\n",
    "                                              embeddings=xlm_embeddings,\n",
    "                                              collection_name=\"xlm_collection\")"
   ]
  },
  {
   "cell_type": "markdown",
   "id": "b0fdeb04",
   "metadata": {},
   "source": [
    "### BGE-M3"
   ]
  },
  {
   "cell_type": "code",
   "execution_count": 12,
   "id": "54ec84d7",
   "metadata": {},
   "outputs": [
    {
     "name": "stderr",
     "output_type": "stream",
     "text": [
      "You're using a XLMRobertaTokenizerFast tokenizer. Please note that with a fast tokenizer, using the `__call__` method is faster than using a method to encode the text followed by a call to the `pad` method to get a padded encoding.\n"
     ]
    }
   ],
   "source": [
    "bge_embeddings = bge_model.encode(\n",
    "    sentences=chunks,\n",
    "    batch_size=12, \n",
    "    max_length=8192\n",
    ")[\"dense_vecs\"]"
   ]
  },
  {
   "cell_type": "code",
   "execution_count": 13,
   "id": "cd10aa13",
   "metadata": {},
   "outputs": [
    {
     "name": "stdout",
     "output_type": "stream",
     "text": [
      "Using ChromaDB directory: /home/murad/Documents/contextual_embeddings/databases/bge_collection\n",
      "Successfully stored 27 chunks with embeddings.\n",
      "Database location: /home/murad/Documents/contextual_embeddings/databases/bge_collection\n"
     ]
    }
   ],
   "source": [
    "bge_collection = preprocessor.create_database(chunks=chunks,\n",
    "                                              embeddings=bge_embeddings,\n",
    "                                              collection_name=\"bge_collection\")"
   ]
  },
  {
   "cell_type": "markdown",
   "id": "af19b74c",
   "metadata": {},
   "source": [
    "### LaBSE "
   ]
  },
  {
   "cell_type": "code",
   "execution_count": 14,
   "id": "1c1dcd88",
   "metadata": {},
   "outputs": [],
   "source": [
    "labse_embeddings = labse_model.encode(sentences=chunks)"
   ]
  },
  {
   "cell_type": "code",
   "execution_count": 15,
   "id": "67806dff",
   "metadata": {},
   "outputs": [
    {
     "name": "stdout",
     "output_type": "stream",
     "text": [
      "Using ChromaDB directory: /home/murad/Documents/contextual_embeddings/databases/labse_collection\n",
      "Successfully stored 27 chunks with embeddings.\n",
      "Database location: /home/murad/Documents/contextual_embeddings/databases/labse_collection\n"
     ]
    }
   ],
   "source": [
    "labse_collection = preprocessor.create_database(chunks=chunks,\n",
    "                                                embeddings=labse_embeddings,\n",
    "                                                collection_name=\"labse_collection\")"
   ]
  },
  {
   "cell_type": "code",
   "execution_count": null,
   "id": "322cbef8",
   "metadata": {},
   "outputs": [],
   "source": []
  }
 ],
 "metadata": {
  "kernelspec": {
   "display_name": "rag",
   "language": "python",
   "name": "python3"
  },
  "language_info": {
   "codemirror_mode": {
    "name": "ipython",
    "version": 3
   },
   "file_extension": ".py",
   "mimetype": "text/x-python",
   "name": "python",
   "nbconvert_exporter": "python",
   "pygments_lexer": "ipython3",
   "version": "3.10.15"
  }
 },
 "nbformat": 4,
 "nbformat_minor": 5
}
