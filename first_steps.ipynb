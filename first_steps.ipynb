{
 "cells": [
  {
   "cell_type": "code",
   "execution_count": 1,
   "id": "3c7005d9",
   "metadata": {},
   "outputs": [],
   "source": [
    "from preprocessor import Preprocessor\n",
    "from FlagEmbedding import BGEM3FlagModel\n",
    "from transformers import XLMRobertaModel, XLMRobertaTokenizer\n",
    "from sentence_transformers import SentenceTransformer\n",
    "import torch"
   ]
  },
  {
   "cell_type": "code",
   "execution_count": 2,
   "id": "c154b3da",
   "metadata": {},
   "outputs": [],
   "source": [
    "preprocessor = Preprocessor(filepath=\"sample_doc.pdf\")"
   ]
  },
  {
   "cell_type": "code",
   "execution_count": 3,
   "id": "b6104f5d",
   "metadata": {},
   "outputs": [],
   "source": [
    "text = preprocessor.read_text()"
   ]
  },
  {
   "cell_type": "code",
   "execution_count": 4,
   "id": "cb061ddd",
   "metadata": {},
   "outputs": [],
   "source": [
    "clean_text = preprocessor.clean_text(text=text)"
   ]
  },
  {
   "cell_type": "code",
   "execution_count": 5,
   "id": "dcac95fe",
   "metadata": {},
   "outputs": [],
   "source": [
    "chunks = preprocessor.split_into_chunks(text=clean_text)"
   ]
  },
  {
   "cell_type": "code",
   "execution_count": 6,
   "id": "71401615",
   "metadata": {},
   "outputs": [],
   "source": [
    "preprocessor.save_chunks(chunks=chunks,\n",
    "                         path=\"/home/murad/Documents/contextual_embeddings/chunks\")"
   ]
  },
  {
   "cell_type": "code",
   "execution_count": 7,
   "id": "53c95363",
   "metadata": {},
   "outputs": [],
   "source": [
    "xlm_tokenizer = XLMRobertaTokenizer.from_pretrained(\"xlm-roberta-base\")\n",
    "xlm_model = XLMRobertaModel.from_pretrained(\"xlm-roberta-base\")"
   ]
  },
  {
   "cell_type": "code",
   "execution_count": null,
   "id": "9802d4f3",
   "metadata": {},
   "outputs": [
    {
     "data": {
      "application/vnd.jupyter.widget-view+json": {
       "model_id": "85d2a82b148b4dd6a88cba2f2d732538",
       "version_major": 2,
       "version_minor": 0
      },
      "text/plain": [
       "Fetching 30 files:   0%|          | 0/30 [00:00<?, ?it/s]"
      ]
     },
     "metadata": {},
     "output_type": "display_data"
    }
   ],
   "source": [
    "bge_model = BGEM3FlagModel(model_name_or_path=\"BAAI/bge-m3\",\n",
    "                           use_fp16=True)"
   ]
  },
  {
   "cell_type": "code",
   "execution_count": 9,
   "id": "895dba51",
   "metadata": {},
   "outputs": [],
   "source": [
    "labse_model = SentenceTransformer(\"sentence-transformers/LaBSE\")"
   ]
  },
  {
   "cell_type": "markdown",
   "id": "e5f1663d",
   "metadata": {},
   "source": [
    "## XLM-RoBERTa"
   ]
  },
  {
   "cell_type": "code",
   "execution_count": 11,
   "id": "4af9bd13",
   "metadata": {},
   "outputs": [],
   "source": [
    "xlm_model.eval()\n",
    "xlm_embeddings = []\n",
    "\n",
    "with torch.no_grad():\n",
    "    for chunk in chunks:\n",
    "        inputs = xlm_tokenizer(chunk, return_tensors=\"pt\", padding=True)\n",
    "        outputs = xlm_model(**inputs)\n",
    "        chunk_embedding = outputs.last_hidden_state[:, 0, :]\n",
    "        xlm_embeddings.append(chunk_embedding)"
   ]
  },
  {
   "cell_type": "code",
   "execution_count": 12,
   "id": "0da5e242",
   "metadata": {},
   "outputs": [
    {
     "name": "stdout",
     "output_type": "stream",
     "text": [
      "Using ChromaDB directory: /home/murad/Documents/contextual_embeddings/databases/xlm_collection\n",
      "Successfully stored 27 chunks with embeddings.\n",
      "Database location: /home/murad/Documents/contextual_embeddings/databases/xlm_collection\n"
     ]
    }
   ],
   "source": [
    "xlm_collection = preprocessor.create_database(chunks=chunks,\n",
    "                                              embeddings=xlm_embeddings,\n",
    "                                              collection_name=\"xlm_collection\")"
   ]
  },
  {
   "cell_type": "markdown",
   "id": "b0fdeb04",
   "metadata": {},
   "source": [
    "### BGE-M3"
   ]
  },
  {
   "cell_type": "code",
   "execution_count": 14,
   "id": "54ec84d7",
   "metadata": {},
   "outputs": [
    {
     "name": "stderr",
     "output_type": "stream",
     "text": [
      "You're using a XLMRobertaTokenizerFast tokenizer. Please note that with a fast tokenizer, using the `__call__` method is faster than using a method to encode the text followed by a call to the `pad` method to get a padded encoding.\n"
     ]
    }
   ],
   "source": [
    "bge_embeddings = bge_model.encode(\n",
    "    sentences=chunks,\n",
    "    batch_size=12, \n",
    "    max_length=8192\n",
    ")[\"dense_vecs\"]"
   ]
  },
  {
   "cell_type": "code",
   "execution_count": 15,
   "id": "cd10aa13",
   "metadata": {},
   "outputs": [
    {
     "name": "stdout",
     "output_type": "stream",
     "text": [
      "Using ChromaDB directory: /home/murad/Documents/contextual_embeddings/databases/bge_collection\n",
      "Successfully stored 27 chunks with embeddings.\n",
      "Database location: /home/murad/Documents/contextual_embeddings/databases/bge_collection\n"
     ]
    }
   ],
   "source": [
    "bge_collection = preprocessor.create_database(chunks=chunks,\n",
    "                                              embeddings=bge_embeddings,\n",
    "                                              collection_name=\"bge_collection\")"
   ]
  },
  {
   "cell_type": "markdown",
   "id": "af19b74c",
   "metadata": {},
   "source": [
    "### LaBSE "
   ]
  },
  {
   "cell_type": "code",
   "execution_count": 16,
   "id": "1c1dcd88",
   "metadata": {},
   "outputs": [],
   "source": [
    "labse_embeddings = labse_model.encode(sentences=chunks)"
   ]
  },
  {
   "cell_type": "code",
   "execution_count": 17,
   "id": "67806dff",
   "metadata": {},
   "outputs": [
    {
     "name": "stdout",
     "output_type": "stream",
     "text": [
      "Using ChromaDB directory: /home/murad/Documents/contextual_embeddings/databases/labse_collection\n",
      "Successfully stored 27 chunks with embeddings.\n",
      "Database location: /home/murad/Documents/contextual_embeddings/databases/labse_collection\n"
     ]
    }
   ],
   "source": [
    "labse_collection = preprocessor.create_database(chunks=chunks,\n",
    "                                                embeddings=labse_embeddings,\n",
    "                                                collection_name=\"labse_collection\")"
   ]
  },
  {
   "cell_type": "code",
   "execution_count": null,
   "id": "322cbef8",
   "metadata": {},
   "outputs": [],
   "source": []
  }
 ],
 "metadata": {
  "kernelspec": {
   "display_name": "nlp",
   "language": "python",
   "name": "python3"
  },
  "language_info": {
   "codemirror_mode": {
    "name": "ipython",
    "version": 3
   },
   "file_extension": ".py",
   "mimetype": "text/x-python",
   "name": "python",
   "nbconvert_exporter": "python",
   "pygments_lexer": "ipython3",
   "version": "3.10.16"
  }
 },
 "nbformat": 4,
 "nbformat_minor": 5
}
