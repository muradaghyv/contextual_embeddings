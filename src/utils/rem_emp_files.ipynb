{
 "cells": [
  {
   "cell_type": "code",
   "execution_count": 8,
   "id": "f593f3a7",
   "metadata": {},
   "outputs": [],
   "source": [
    "import jsonlines\n",
    "import os"
   ]
  },
  {
   "cell_type": "code",
   "execution_count": 9,
   "id": "fe46ab88",
   "metadata": {},
   "outputs": [],
   "source": [
    "data_path = \"/home/murad/Documents/self-study/contextual_embeddings/data/openai_results_mined_HN/\""
   ]
  },
  {
   "cell_type": "code",
   "execution_count": null,
   "id": "eb8a3313",
   "metadata": {},
   "outputs": [],
   "source": [
    "def is_jsonl_empty(file_path):\n",
    "    try:\n",
    "        with open(file_path, 'r', encoding='utf-8') as file:\n",
    "            for line in file:\n",
    "                if line.strip():  # If line has non-whitespace content\n",
    "                    return False  # File is not empty\n",
    "        return True  # All lines were empty/whitespace\n",
    "    except FileNotFoundError:\n",
    "        # If file doesn't exist, treat as empty (or raise an error as needed)\n",
    "        return True"
   ]
  },
  {
   "cell_type": "code",
   "execution_count": 24,
   "id": "601077d7",
   "metadata": {},
   "outputs": [],
   "source": [
    "for i in os.listdir(data_path):\n",
    "    filename = os.path.join(data_path, i)\n",
    "    \n",
    "    if is_jsonl_empty(filename):\n",
    "        os.remove(filename)"
   ]
  },
  {
   "cell_type": "code",
   "execution_count": 22,
   "id": "d8078523",
   "metadata": {},
   "outputs": [
    {
     "name": "stdout",
     "output_type": "stream",
     "text": [
      "True\n"
     ]
    }
   ],
   "source": [
    "with jsonlines.open(\"/home/murad/Documents/self-study/contextual_embeddings/data/openai_results_mined_HN/mined_HN_doc_21282.jsonl\", mode=\"r\") as reader:\n",
    "    if reader:\n",
    "        print(True)"
   ]
  },
  {
   "cell_type": "code",
   "execution_count": null,
   "id": "9116c079",
   "metadata": {},
   "outputs": [],
   "source": []
  }
 ],
 "metadata": {
  "kernelspec": {
   "display_name": "rag",
   "language": "python",
   "name": "python3"
  },
  "language_info": {
   "codemirror_mode": {
    "name": "ipython",
    "version": 3
   },
   "file_extension": ".py",
   "mimetype": "text/x-python",
   "name": "python",
   "nbconvert_exporter": "python",
   "pygments_lexer": "ipython3",
   "version": "3.10.15"
  }
 },
 "nbformat": 4,
 "nbformat_minor": 5
}
