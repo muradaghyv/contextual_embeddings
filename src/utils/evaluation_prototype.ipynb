{
 "cells": [
  {
   "cell_type": "code",
   "execution_count": 1,
   "id": "2652ff9b",
   "metadata": {},
   "outputs": [],
   "source": [
    "from dotenv import load_dotenv\n",
    "import openai\n",
    "import os\n",
    "import jsonlines"
   ]
  },
  {
   "cell_type": "code",
   "execution_count": 2,
   "id": "a5441f2a",
   "metadata": {},
   "outputs": [
    {
     "data": {
      "text/plain": [
       "True"
      ]
     },
     "execution_count": 2,
     "metadata": {},
     "output_type": "execute_result"
    }
   ],
   "source": [
    "load_dotenv(\"../.env\")"
   ]
  },
  {
   "cell_type": "code",
   "execution_count": 4,
   "id": "3b3f725d",
   "metadata": {},
   "outputs": [],
   "source": [
    "base_dir = \"/home/murad/Documents/self-study/contextual_embeddings/data/evaluation_openai\""
   ]
  },
  {
   "cell_type": "code",
   "execution_count": 3,
   "id": "38e11d0d",
   "metadata": {},
   "outputs": [],
   "source": [
    "openai_api_key = os.getenv(\"openai_api_key\")"
   ]
  },
  {
   "cell_type": "code",
   "execution_count": null,
   "id": "fe6e46e9",
   "metadata": {},
   "outputs": [
    {
     "ename": "KeyError",
     "evalue": "'pos'",
     "output_type": "error",
     "traceback": [
      "\u001b[0;31m---------------------------------------------------------------------------\u001b[0m",
      "\u001b[0;31mKeyError\u001b[0m                                  Traceback (most recent call last)",
      "Cell \u001b[0;32mIn[5], line 6\u001b[0m\n\u001b[1;32m      4\u001b[0m corpus_text \u001b[38;5;241m=\u001b[39m \u001b[38;5;124m\"\u001b[39m\u001b[38;5;124m\"\u001b[39m\n\u001b[1;32m      5\u001b[0m \u001b[38;5;28;01mfor\u001b[39;00m pos_answer \u001b[38;5;129;01min\u001b[39;00m reader:\n\u001b[0;32m----> 6\u001b[0m     corpus_text \u001b[38;5;241m+\u001b[39m\u001b[38;5;241m=\u001b[39m \u001b[38;5;124m'\u001b[39m\u001b[38;5;124m'\u001b[39m\u001b[38;5;241m.\u001b[39mjoin(\u001b[38;5;28mstr\u001b[39m(\u001b[43mpos_answer\u001b[49m\u001b[43m[\u001b[49m\u001b[38;5;124;43m\"\u001b[39;49m\u001b[38;5;124;43mpos\u001b[39;49m\u001b[38;5;124;43m\"\u001b[39;49m\u001b[43m]\u001b[49m))\n\u001b[1;32m      8\u001b[0m whole_corpus[\u001b[38;5;124mf\u001b[39m\u001b[38;5;124m\"\u001b[39m\u001b[38;5;124mid_\u001b[39m\u001b[38;5;132;01m{\u001b[39;00mindex\u001b[38;5;132;01m}\u001b[39;00m\u001b[38;5;124m\"\u001b[39m] \u001b[38;5;241m=\u001b[39m corpus_text\n",
      "\u001b[0;31mKeyError\u001b[0m: 'pos'"
     ]
    }
   ],
   "source": [
    "whole_corpus = {}\n",
    "for index, path in enumerate(os.listdir(base_dir)):\n",
    "    with jsonlines.open(os.path.join(base_dir, path), \"r\") as reader:\n",
    "        corpus_text = \"\"\n",
    "        for pos_answer in reader:\n",
    "            corpus_text += ''.join(str(pos_answer[\"pos\"]))\n",
    "        \n",
    "        whole_corpus[f\"id_{index}\"] = corpus_text"
   ]
  },
  {
   "cell_type": "code",
   "execution_count": 14,
   "id": "79b65891",
   "metadata": {},
   "outputs": [],
   "source": [
    "with jsonlines.open(\"/home/murad/Documents/self-study/contextual_embeddings/data/evaluation_openai/doc_60175.jsonl\", \"r\") as reader:\n",
    "    corpus_text = \"\"\n",
    "    for pos_answer in reader:\n",
    "        x = pos_answer[\"query\"]"
   ]
  },
  {
   "cell_type": "code",
   "execution_count": 81,
   "id": "d3cf84dd",
   "metadata": {},
   "outputs": [],
   "source": [
    "with jsonlines.open(\"corpus.jsonl\", \"w\") as writer:\n",
    "    writer.write_all(corpus)"
   ]
  },
  {
   "cell_type": "code",
   "execution_count": null,
   "id": "d270fc23",
   "metadata": {},
   "outputs": [],
   "source": [
    "query_corpus = []\n",
    "id = 100\n",
    "for index, path in enumerate(os.listdir(base_dir)):\n",
    "    with jsonlines.open(os.path.join(base_dir, path), \"r\") as reader:\n",
    "        corp = {}\n",
    "        text = \"\"\n",
    "        for obj in reader:\n",
    "            corp[\"id\"] = id\n",
    "            corp[\"text\"] = obj[\"query\"]\n",
    "            id += 1\n",
    "        \n",
    "        query_corpus.append(corp)"
   ]
  },
  {
   "cell_type": "code",
   "execution_count": 24,
   "id": "2ce559e6",
   "metadata": {},
   "outputs": [],
   "source": [
    "corpus = []\n",
    "with jsonlines.open(\"/home/murad/Documents/self-study/contextual_embeddings/data/evaluation_data/corpus.jsonl\", \"r\") as corpus_reader:\n",
    "    for obj in corpus_reader:\n",
    "        corpus.append(obj)"
   ]
  },
  {
   "cell_type": "code",
   "execution_count": 25,
   "id": "907e9c93",
   "metadata": {},
   "outputs": [],
   "source": [
    "queries = []\n",
    "with jsonlines.open(os.path.join(\"/home/murad/Documents/self-study/contextual_embeddings/data/evaluation_data/test_queries.jsonl\"), \"r\") as query_reader:\n",
    "    for obj in query_reader:\n",
    "        queries.append(obj)"
   ]
  },
  {
   "cell_type": "code",
   "execution_count": 22,
   "id": "c0bc5c0c",
   "metadata": {},
   "outputs": [],
   "source": [
    "whole_docs = []\n",
    "\n",
    "for path in os.listdir(base_dir):\n",
    "    with jsonlines.open(os.path.join(base_dir, path), \"r\") as reader:\n",
    "        for obj in reader:\n",
    "            whole_docs.append(obj)"
   ]
  },
  {
   "cell_type": "code",
   "execution_count": 33,
   "id": "52eb31b0",
   "metadata": {},
   "outputs": [],
   "source": [
    "query = queries[0][\"text\"]\n",
    "query_id = 0\n",
    "for i in range (len(whole_docs)):\n",
    "    if query in whole_docs[i][\"query\"]:\n",
    "        answer = whole_docs[i][\"pos\"][0]"
   ]
  },
  {
   "cell_type": "code",
   "execution_count": 19,
   "id": "40709749",
   "metadata": {},
   "outputs": [
    {
     "data": {
      "text/plain": [
       "{'query': '“Yol hərəkəti haqqında” Azərbaycan Respublikasının Qanununda edilən dəyişikliklərin tətbiqinin əsas məqsədi nədir?',\n",
       " 'pos': ['“Yol hərəkəti haqqında” Azərbaycan Respublikasının Qanununda edilən dəyişikliklər Azərbaycan Respublikası Prezidentinin 2015-ci il 28 aprel tarixli 1261-IVQD nömrəli Qanunun tətbiqi məqsədilə edilərək, yolların təhlükəsizliyinin təmin edilməsi, hərəkətin svetoforla nizamlanması və keçidlərin tikilməsi ilə bağlı məsələlərin nizama salınması üçün nəzərdə tutulmuşdur.'],\n",
       " 'neg': ['Azərbaycan Respublikasının Konstitusiyasının 109-cu maddəsinin 19-cu bəndi hansı hüquqları verir?',\n",
       "  'Azərbaycan Respublikasının Nazirlər Kabineti hansı formada təkliflər hazırlayır?',\n",
       "  '“Yol hərəkəti haqqında” qanunun 9-1-ci maddəsi hansı hallarda tətbiq edilir?'],\n",
       " 'prompt': 'Veb axtarış sorğusu verildikdə, sorğuya cavab verən müvafiq mətnləri tapın.',\n",
       " 'type': 'normal'}"
      ]
     },
     "execution_count": 19,
     "metadata": {},
     "output_type": "execute_result"
    }
   ],
   "source": [
    "whole_docs[0]"
   ]
  },
  {
   "cell_type": "code",
   "execution_count": 34,
   "id": "a4f0199c",
   "metadata": {},
   "outputs": [
    {
     "data": {
      "text/plain": [
       "str"
      ]
     },
     "execution_count": 34,
     "metadata": {},
     "output_type": "execute_result"
    }
   ],
   "source": [
    "type(answer)"
   ]
  },
  {
   "cell_type": "code",
   "execution_count": 35,
   "id": "1d3e8fa7",
   "metadata": {},
   "outputs": [
    {
     "name": "stdout",
     "output_type": "stream",
     "text": [
      "{'id': 0, 'text': \"['“Yol hərəkəti haqqında” Azərbaycan Respublikasının Qanununda edilən dəyişikliklər Azərbaycan Respublikası Prezidentinin 2015-ci il 28 aprel tarixli 1261-IVQD nömrəli Qanunun tətbiqi məqsədilə edilərək, yolların təhlükəsizliyinin təmin edilməsi, hərəkətin svetoforla nizamlanması və keçidlərin tikilməsi ilə bağlı məsələlərin nizama salınması üçün nəzərdə tutulmuşdur.']\"}\n"
     ]
    }
   ],
   "source": [
    "for i in range(len(corpus)):\n",
    "    if answer in corpus[i][\"text\"]:\n",
    "        print(corpus[i])"
   ]
  },
  {
   "cell_type": "code",
   "execution_count": 51,
   "id": "e0188bc1",
   "metadata": {},
   "outputs": [],
   "source": [
    "final_document = []\n",
    "for query in queries:\n",
    "    document = {}\n",
    "    if type(query[\"text\"]) == str:\n",
    "        text = query[\"text\"]\n",
    "    else:\n",
    "        text = query[\"text\"][0]\n",
    "\n",
    "    qid = query[\"id\"]\n",
    "    for i in range (len(whole_docs)):\n",
    "        if text in whole_docs[i][\"query\"]:\n",
    "            answer = whole_docs[i][\"pos\"][0]\n",
    "            break\n",
    "\n",
    "    for i in range(len(corpus)):\n",
    "        if answer in corpus[i][\"text\"]:\n",
    "            docid = corpus[i][\"id\"]\n",
    "            break\n",
    "    document[\"qid\"] = qid\n",
    "    document[\"docid\"] = docid\n",
    "    document[\"relevance\"] = 1\n",
    "\n",
    "    final_document.append(document)"
   ]
  },
  {
   "cell_type": "code",
   "execution_count": 52,
   "id": "1b244c49",
   "metadata": {},
   "outputs": [
    {
     "data": {
      "text/plain": [
       "[{'qid': 100, 'docid': 0, 'relevance': 1},\n",
       " {'qid': 101, 'docid': 1, 'relevance': 1},\n",
       " {'qid': 102, 'docid': 2, 'relevance': 1},\n",
       " {'qid': 103, 'docid': 3, 'relevance': 1},\n",
       " {'qid': 104, 'docid': 4, 'relevance': 1},\n",
       " {'qid': 105, 'docid': 5, 'relevance': 1},\n",
       " {'qid': 106, 'docid': 6, 'relevance': 1},\n",
       " {'qid': 107, 'docid': 7, 'relevance': 1},\n",
       " {'qid': 108, 'docid': 8, 'relevance': 1},\n",
       " {'qid': 111, 'docid': 9, 'relevance': 1},\n",
       " {'qid': 112, 'docid': 10, 'relevance': 1},\n",
       " {'qid': 118, 'docid': 11, 'relevance': 1},\n",
       " {'qid': 119, 'docid': 12, 'relevance': 1},\n",
       " {'qid': 125, 'docid': 13, 'relevance': 1},\n",
       " {'qid': 126, 'docid': 14, 'relevance': 1},\n",
       " {'qid': 131, 'docid': 15, 'relevance': 1},\n",
       " {'qid': 132, 'docid': 16, 'relevance': 1},\n",
       " {'qid': 137, 'docid': 15, 'relevance': 1},\n",
       " {'qid': 138, 'docid': 18, 'relevance': 1},\n",
       " {'qid': 139, 'docid': 19, 'relevance': 1},\n",
       " {'qid': 140, 'docid': 20, 'relevance': 1},\n",
       " {'qid': 141, 'docid': 21, 'relevance': 1},\n",
       " {'qid': 142, 'docid': 22, 'relevance': 1},\n",
       " {'qid': 147, 'docid': 15, 'relevance': 1},\n",
       " {'qid': 148, 'docid': 24, 'relevance': 1},\n",
       " {'qid': 149, 'docid': 25, 'relevance': 1},\n",
       " {'qid': 150, 'docid': 26, 'relevance': 1},\n",
       " {'qid': 151, 'docid': 27, 'relevance': 1},\n",
       " {'qid': 156, 'docid': 15, 'relevance': 1},\n",
       " {'qid': 161, 'docid': 15, 'relevance': 1},\n",
       " {'qid': 162, 'docid': 30, 'relevance': 1},\n",
       " {'qid': 163, 'docid': 1, 'relevance': 1},\n",
       " {'qid': 164, 'docid': 32, 'relevance': 1},\n",
       " {'qid': 165, 'docid': 33, 'relevance': 1},\n",
       " {'qid': 166, 'docid': 34, 'relevance': 1},\n",
       " {'qid': 180, 'docid': 35, 'relevance': 1},\n",
       " {'qid': 181, 'docid': 36, 'relevance': 1},\n",
       " {'qid': 182, 'docid': 37, 'relevance': 1},\n",
       " {'qid': 183, 'docid': 38, 'relevance': 1},\n",
       " {'qid': 184, 'docid': 39, 'relevance': 1},\n",
       " {'qid': 185, 'docid': 40, 'relevance': 1},\n",
       " {'qid': 186, 'docid': 41, 'relevance': 1},\n",
       " {'qid': 187, 'docid': 42, 'relevance': 1},\n",
       " {'qid': 192, 'docid': 15, 'relevance': 1},\n",
       " {'qid': 193, 'docid': 44, 'relevance': 1},\n",
       " {'qid': 194, 'docid': 45, 'relevance': 1},\n",
       " {'qid': 195, 'docid': 46, 'relevance': 1},\n",
       " {'qid': 198, 'docid': 47, 'relevance': 1},\n",
       " {'qid': 199, 'docid': 48, 'relevance': 1},\n",
       " {'qid': 200, 'docid': 49, 'relevance': 1},\n",
       " {'qid': 201, 'docid': 50, 'relevance': 1},\n",
       " {'qid': 202, 'docid': 51, 'relevance': 1},\n",
       " {'qid': 203, 'docid': 52, 'relevance': 1},\n",
       " {'qid': 204, 'docid': 53, 'relevance': 1},\n",
       " {'qid': 205, 'docid': 54, 'relevance': 1},\n",
       " {'qid': 206, 'docid': 55, 'relevance': 1},\n",
       " {'qid': 207, 'docid': 56, 'relevance': 1},\n",
       " {'qid': 208, 'docid': 57, 'relevance': 1},\n",
       " {'qid': 211, 'docid': 58, 'relevance': 1},\n",
       " {'qid': 216, 'docid': 15, 'relevance': 1},\n",
       " {'qid': 217, 'docid': 60, 'relevance': 1},\n",
       " {'qid': 218, 'docid': 61, 'relevance': 1},\n",
       " {'qid': 222, 'docid': 62, 'relevance': 1},\n",
       " {'qid': 223, 'docid': 63, 'relevance': 1},\n",
       " {'qid': 224, 'docid': 64, 'relevance': 1},\n",
       " {'qid': 226, 'docid': 65, 'relevance': 1},\n",
       " {'qid': 231, 'docid': 66, 'relevance': 1},\n",
       " {'qid': 236, 'docid': 15, 'relevance': 1},\n",
       " {'qid': 238, 'docid': 68, 'relevance': 1},\n",
       " {'qid': 239, 'docid': 69, 'relevance': 1},\n",
       " {'qid': 240, 'docid': 70, 'relevance': 1},\n",
       " {'qid': 241, 'docid': 71, 'relevance': 1},\n",
       " {'qid': 242, 'docid': 72, 'relevance': 1},\n",
       " {'qid': 243, 'docid': 73, 'relevance': 1}]"
      ]
     },
     "execution_count": 52,
     "metadata": {},
     "output_type": "execute_result"
    }
   ],
   "source": [
    "final_document"
   ]
  },
  {
   "cell_type": "code",
   "execution_count": 45,
   "id": "a8cd22ac",
   "metadata": {},
   "outputs": [
    {
     "name": "stdout",
     "output_type": "stream",
     "text": [
      "“\n",
      "M\n",
      "H\n",
      "Ə\n",
      "A\n",
      "“\n",
      "Azərbaycan Respublikasının Rəqəmsal İnkişaf və Nəqliyyat Nazirliyi ilə Səudiyyə Ərəbistanı Krallığının Nəqliyyat Baş İdarəsi arasında sertifikatların qarşılıqlı tanınmasına dair Anlaşma Memorandumu nəyi nəzərdə tutur?\n",
      "S\n",
      "A\n",
      "S\n",
      "A\n",
      "D\n",
      "M\n",
      "T\n",
      "Y\n",
      "B\n",
      "M\n",
      "B\n",
      "T\n",
      "Ş\n",
      "“\n",
      "“\n",
      "A\n",
      "B\n",
      "B\n",
      "“\n",
      "“\n",
      "G\n",
      "B\n",
      "B\n",
      "P\n",
      "M\n",
      "G\n",
      "A\n",
      "A\n",
      "S\n",
      "S\n",
      "B\n",
      "A\n",
      "Q\n",
      "B\n",
      "A\n",
      "A\n",
      "B\n",
      "T\n",
      "M\n",
      "A\n",
      "D\n",
      "2\n",
      "M\n",
      "Y\n",
      "A\n",
      "A\n",
      "M\n",
      "A\n",
      "A\n",
      "A\n",
      "G\n",
      "S\n",
      "B\n",
      "M\n",
      "A\n",
      "B\n",
      "M\n",
      "A\n",
      "X\n",
      "İ\n",
      "B\n",
      "2\n",
      "A\n",
      "N\n",
      "N\n",
      "A\n",
      "N\n"
     ]
    }
   ],
   "source": [
    "for query in queries:\n",
    "    document = {}\n",
    "    try:\n",
    "    text = query[\"text\"][0]\n",
    "    qid = query[\"id\"]\n",
    "    print(text)"
   ]
  },
  {
   "cell_type": "code",
   "execution_count": 50,
   "id": "f132365a",
   "metadata": {},
   "outputs": [],
   "source": [
    "with jsonlines.open(\"whole_documnet.jsonl\", \"w\") as writer:\n",
    "    writer.write_all(whole_docs)"
   ]
  },
  {
   "cell_type": "code",
   "execution_count": null,
   "id": "7eee4361",
   "metadata": {},
   "outputs": [],
   "source": [
    "whole_docs = []\n",
    "\n",
    "for path in os.listdir(base_dir):\n",
    "    dct = {}\n",
    "    with jsonlines.open(os.path.join(base_dir, path), \"r\") as reader:\n",
    "        for obj in reader:\n",
    "            dct[\"id\"] = path\n",
    "            dct[\"text\"] = \n",
    "            whole_docs.append(obj)"
   ]
  }
 ],
 "metadata": {
  "kernelspec": {
   "display_name": "rag",
   "language": "python",
   "name": "python3"
  },
  "language_info": {
   "codemirror_mode": {
    "name": "ipython",
    "version": 3
   },
   "file_extension": ".py",
   "mimetype": "text/x-python",
   "name": "python",
   "nbconvert_exporter": "python",
   "pygments_lexer": "ipython3",
   "version": "3.10.15"
  }
 },
 "nbformat": 4,
 "nbformat_minor": 5
}
