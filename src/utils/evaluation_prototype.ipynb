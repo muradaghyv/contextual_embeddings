{
 "cells": [
  {
   "cell_type": "code",
   "execution_count": 3,
   "id": "2652ff9b",
   "metadata": {},
   "outputs": [],
   "source": [
    "from dotenv import load_dotenv\n",
    "import openai\n",
    "import os"
   ]
  },
  {
   "cell_type": "code",
   "execution_count": 2,
   "id": "a5441f2a",
   "metadata": {},
   "outputs": [
    {
     "data": {
      "text/plain": [
       "True"
      ]
     },
     "execution_count": 2,
     "metadata": {},
     "output_type": "execute_result"
    }
   ],
   "source": [
    "load_dotenv(\"../.env\")"
   ]
  },
  {
   "cell_type": "code",
   "execution_count": 4,
   "id": "38e11d0d",
   "metadata": {},
   "outputs": [],
   "source": [
    "openai_api_key = os.getenv(\"openai_api_key\")"
   ]
  },
  {
   "cell_type": "code",
   "execution_count": null,
   "id": "4b7254c1",
   "metadata": {},
   "outputs": [],
   "source": [
    "corpus = [\n",
    "    {\"id\": \"566392\", \"title\": \"\", \"text\": \"Aviasiya ilə əlaqədar axtarış və xilasetmə bölmələrinin yaradılması və işlərinin aparılmasını tənzimləyən Qaydalar, aviasiya hadisəsinə (qəzasına) məruz qalan hava gəmilərinin, onların sərnişinlərinin və ekipajının axtarışı və xilas edilməsi işlərinin təşkili və icrası, xilasetmə qüvvələrinin və vasitələrinin təchizatı, həmçinin zərərçəkmişlərə yardım göstəriləsini müəyyən edir.\"},\n",
    "    {\"id\": \"88124\", \"title\": \"\", \"text\": \"Azərbaycan Respublikası Prezidentinin sərəncamı ilə bir sıra hərbi və digər instansiya məhkəmələrinin hakimləri vəzifələrindən azad edilərək yeni vəzifələrə təyin edilib. Bu dəyişikliklərə Ağır Cinayətlərə Dair İşlər üzrə Məhkəmələr və Hərbi Məhkəmələr daxil edilib.\"},\n",
    "    {\"id\": \"325273\", \"title\": \"\", \"text\": \"Azərbaycan Respublikası Mülki Prosessual Məcəlləsinin 307.2.4-cü maddəsinin şərh edilməsi, məhkəmə icraatında olan iş üzrə mülki prosessual hüquq normasının tətbiqi ilə bağlı qeyri-müəyyənlikləri aradan qaldırmaq və dəqiqlik təmin etmək məqsədini daşıyır.\"},\n",
    "    ]"
   ]
  },
  {
   "cell_type": "code",
   "execution_count": null,
   "id": "e8dce14b",
   "metadata": {},
   "outputs": [],
   "source": [
    "test_queries = [\n",
    "    {\"id\": \"8\", \"text\": \"Aviasiya ilə əlaqədar axtarış və xilasetmə bölmələrinin yaradılması məqsədi nədir?\"},\n",
    "    {\"id\": \"15\", \"text\": \"Azərbaycan Respublikası Mülki Prosessual Məcəlləsinin 307.2.4-cü maddəsinin şərh edilməsinin səbəbi nədir?\"},\n",
    "    {\"id\": \"18\", \"text\": \"Bir sıra birinci instansiya məhkəmələri hakimlərinin vəzifələrinin dəyişdirilməsi haqqında nə yazılıb?\"},\n",
    "]"
   ]
  },
  {
   "cell_type": "code",
   "execution_count": null,
   "id": "f9fe19f3",
   "metadata": {},
   "outputs": [],
   "source": [
    "test_qrels = [\n",
    "    {\"qid\": \"8\", \"docid\": \"566392\", \"relevance\": 1},\n",
    "    {\"qid\": \"15\", \"docid\": \"325273\", \"relevance\": 1},\n",
    "    {\"qid\": \"18\", \"docid\": \"88124\", \"relevance\": 1}\n",
    "]"
   ]
  }
 ],
 "metadata": {
  "kernelspec": {
   "display_name": "rag",
   "language": "python",
   "name": "python3"
  },
  "language_info": {
   "codemirror_mode": {
    "name": "ipython",
    "version": 3
   },
   "file_extension": ".py",
   "mimetype": "text/x-python",
   "name": "python",
   "nbconvert_exporter": "python",
   "pygments_lexer": "ipython3",
   "version": "3.10.15"
  }
 },
 "nbformat": 4,
 "nbformat_minor": 5
}
