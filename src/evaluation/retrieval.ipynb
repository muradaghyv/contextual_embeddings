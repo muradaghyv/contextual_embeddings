{
 "cells": [
  {
   "cell_type": "code",
   "execution_count": 1,
   "metadata": {},
   "outputs": [],
   "source": [
    "import torch\n",
    "import chromadb\n",
    "\n",
    "from openai import OpenAI\n",
    "\n",
    "from FlagEmbedding import BGEM3FlagModel\n",
    "from transformers import XLMRobertaModel, XLMRobertaTokenizer\n",
    "from sentence_transformers import SentenceTransformer"
   ]
  },
  {
   "cell_type": "markdown",
   "metadata": {},
   "source": [
    "## Importing models and databases"
   ]
  },
  {
   "cell_type": "code",
   "execution_count": 17,
   "metadata": {},
   "outputs": [],
   "source": [
    "xlm_tokenizer = XLMRobertaTokenizer.from_pretrained(\"xlm-roberta-base\")\n",
    "xlm_model = XLMRobertaModel.from_pretrained(\"xlm-roberta-base\")"
   ]
  },
  {
   "cell_type": "code",
   "execution_count": 18,
   "metadata": {},
   "outputs": [],
   "source": [
    "xlm_client = chromadb.PersistentClient(\n",
    "    path=\"/home/murad/Documents/self-study/contextual_embeddings/databases/xlm_collection\"\n",
    ")\n",
    "\n",
    "xlm_collection = xlm_client.get_collection(\"pdf_chunks\")"
   ]
  },
  {
   "cell_type": "code",
   "execution_count": 17,
   "metadata": {},
   "outputs": [
    {
     "data": {
      "application/vnd.jupyter.widget-view+json": {
       "model_id": "5bf1108da5f94b538300f103c45914d7",
       "version_major": 2,
       "version_minor": 0
      },
      "text/plain": [
       "Fetching 30 files:   0%|          | 0/30 [00:00<?, ?it/s]"
      ]
     },
     "metadata": {},
     "output_type": "display_data"
    }
   ],
   "source": [
    "bge_model = BGEM3FlagModel(\n",
    "    model_name_or_path=\"BAAI/bge-m3\",\n",
    "    use_fp16=True\n",
    ")"
   ]
  },
  {
   "cell_type": "code",
   "execution_count": 18,
   "metadata": {},
   "outputs": [],
   "source": [
    "bge_client = chromadb.PersistentClient(\n",
    "    path=\"/home/murad/Documents/self-study/contextual_embeddings/databases/bge_collection\"\n",
    ")\n",
    "bge_collection = bge_client.get_collection(\"pdf_chunks\")"
   ]
  },
  {
   "cell_type": "code",
   "execution_count": 19,
   "metadata": {},
   "outputs": [],
   "source": [
    "labse_model = SentenceTransformer(\n",
    "    model_name_or_path=\"sentence-transformers/LaBSE\"\n",
    ")"
   ]
  },
  {
   "cell_type": "code",
   "execution_count": 20,
   "metadata": {},
   "outputs": [],
   "source": [
    "labse_client = chromadb.PersistentClient(\n",
    "    path=\"/home/murad/Documents/self-study/contextual_embeddings/databases/labse_collection\"\n",
    ")\n",
    "labse_collection = labse_client.get_collection(\"pdf_chunks\")"
   ]
  },
  {
   "cell_type": "code",
   "execution_count": 39,
   "metadata": {},
   "outputs": [],
   "source": [
    "# Create OpenAI model instance here"
   ]
  },
  {
   "cell_type": "code",
   "execution_count": 3,
   "metadata": {},
   "outputs": [],
   "source": [
    "openai_client = chromadb.PersistentClient(\n",
    "    path=\"/home/murad/Documents/self-study/contextual_embeddings/databases/openai_collection_large\"\n",
    ")\n",
    "openai_collection = openai_client.get_collection(\"pdf_chunks\")"
   ]
  },
  {
   "cell_type": "markdown",
   "metadata": {},
   "source": [
    "## Query"
   ]
  },
  {
   "cell_type": "code",
   "execution_count": 32,
   "metadata": {},
   "outputs": [],
   "source": [
    "query = \"Konvolyusional Sinir Şəbəkələri (CNN) nədir və Azərbaycanda hansı sahələrdə istifadə olunur?\""
   ]
  },
  {
   "cell_type": "markdown",
   "metadata": {},
   "source": [
    "### XLM RoBERTa model result"
   ]
  },
  {
   "cell_type": "code",
   "execution_count": 26,
   "metadata": {},
   "outputs": [],
   "source": [
    "xlm_model.eval()\n",
    "\n",
    "with torch.no_grad():\n",
    "    inputs = xlm_tokenizer(query, return_tensors=\"pt\", padding=True)\n",
    "    outputs = xlm_model(**inputs)\n",
    "    query_embedding_xlm = outputs.last_hidden_state[:, 0, :].squeeze(0).numpy().tolist()"
   ]
  },
  {
   "cell_type": "code",
   "execution_count": 27,
   "metadata": {},
   "outputs": [],
   "source": [
    "xlm_result = xlm_collection.query(\n",
    "    query_embeddings=query_embedding_xlm,\n",
    "    n_results=5,\n",
    "    include=[\"distances\", \"metadatas\", \"documents\"]\n",
    ")"
   ]
  },
  {
   "cell_type": "code",
   "execution_count": 28,
   "metadata": {},
   "outputs": [],
   "source": [
    "with open(\"xlm_result.txt\", \"w\", encoding=\"utf-8\") as f:\n",
    "    f.write(str(xlm_result[\"documents\"]))"
   ]
  },
  {
   "cell_type": "markdown",
   "metadata": {},
   "source": [
    "### BGE-M3 model result"
   ]
  },
  {
   "cell_type": "code",
   "execution_count": 33,
   "metadata": {},
   "outputs": [],
   "source": [
    "query_embedding_bge = bge_model.encode(sentences=query,\n",
    "                                       max_length=1024,\n",
    "                                       batch_size=12)['dense_vecs']\n",
    "query_embedding_bge = query_embedding_bge.tolist()"
   ]
  },
  {
   "cell_type": "code",
   "execution_count": 34,
   "metadata": {},
   "outputs": [],
   "source": [
    "bge_result = bge_collection.query(\n",
    "    query_embeddings=query_embedding_bge,\n",
    "    n_results=5,\n",
    "    include=[\"distances\", \"metadatas\", \"documents\"]\n",
    ")"
   ]
  },
  {
   "cell_type": "code",
   "execution_count": 35,
   "metadata": {},
   "outputs": [],
   "source": [
    "with open(\"bge_result.txt\", \"w\", encoding=\"utf-8\") as f:\n",
    "    f.write(str(bge_result[\"documents\"]))"
   ]
  },
  {
   "cell_type": "markdown",
   "metadata": {},
   "source": [
    "### LaBSE model result"
   ]
  },
  {
   "cell_type": "code",
   "execution_count": 32,
   "metadata": {},
   "outputs": [],
   "source": [
    "query_embedding_labse = labse_model.encode(sentences=query)\n",
    "query_embedding_labse = query_embedding_labse.tolist()"
   ]
  },
  {
   "cell_type": "code",
   "execution_count": 33,
   "metadata": {},
   "outputs": [],
   "source": [
    "labse_result = labse_collection.query(\n",
    "    query_embeddings=query_embedding_labse,\n",
    "    n_results=5,\n",
    "    include=[\"distances\", \"metadatas\", \"documents\"]\n",
    ")"
   ]
  },
  {
   "cell_type": "code",
   "execution_count": 34,
   "metadata": {},
   "outputs": [],
   "source": [
    "with open(\"labse_result.txt\", \"w\", encoding=\"utf-8\") as f:\n",
    "    f.write(str(labse_result[\"documents\"]))"
   ]
  },
  {
   "cell_type": "markdown",
   "metadata": {},
   "source": [
    "### OPENAI model result"
   ]
  },
  {
   "cell_type": "code",
   "execution_count": 36,
   "metadata": {},
   "outputs": [],
   "source": [
    "def get_openai_embeddings(texts, model=\"text-embedding-3-large\"):\n",
    "    \"\"\"Generate embeddings for a list of texts using OpenAI API\"\"\"\n",
    "    response = openai_model.embeddings.create(\n",
    "        input=texts,\n",
    "        model=model\n",
    "    )\n",
    "    \n",
    "    # Extract embeddings from the response\n",
    "    embeddings = [item.embedding for item in response.data]\n",
    "    return embeddings\n",
    "\n",
    "# Use in your workflow\n",
    "query_embeddings_openai = get_openai_embeddings(query)"
   ]
  },
  {
   "cell_type": "code",
   "execution_count": 37,
   "metadata": {},
   "outputs": [],
   "source": [
    "openai_result = openai_collection.query(\n",
    "    query_embeddings=query_embeddings_openai,\n",
    "    n_results=5,\n",
    "    include=[\"distances\", \"metadatas\", \"documents\"]\n",
    ")"
   ]
  },
  {
   "cell_type": "code",
   "execution_count": 38,
   "metadata": {},
   "outputs": [
    {
     "data": {
      "text/plain": [
       "{'ids': [['chunk_13', 'chunk_8', 'chunk_12', 'chunk_14', 'chunk_7']],\n",
       " 'distances': [[0.884297152288524,\n",
       "   0.9313538959731947,\n",
       "   0.9650503047003142,\n",
       "   0.9976189089491336,\n",
       "   1.0531794238621923]],\n",
       " 'metadatas': [[{'source': 'chunk_13.txt'},\n",
       "   {'source': 'chunk_8.txt'},\n",
       "   {'source': 'chunk_12.txt'},\n",
       "   {'source': 'chunk_14.txt'},\n",
       "   {'source': 'chunk_7.txt'}]],\n",
       " 'embeddings': None,\n",
       " 'documents': [[None, None, None, None, None]],\n",
       " 'uris': None,\n",
       " 'data': None}"
      ]
     },
     "execution_count": 38,
     "metadata": {},
     "output_type": "execute_result"
    }
   ],
   "source": [
    "openai_result"
   ]
  },
  {
   "cell_type": "code",
   "execution_count": 31,
   "metadata": {},
   "outputs": [
    {
     "data": {
      "text/plain": [
       "{'ids': [['chunk_5', 'chunk_8', 'chunk_0', 'chunk_7', 'chunk_25']],\n",
       " 'distances': [[0.8182411739686054,\n",
       "   0.8713007817483956,\n",
       "   0.8890924373858589,\n",
       "   0.9197864670089544,\n",
       "   0.9218479371924744]],\n",
       " 'metadatas': [[{'source': 'chunk_5.txt'},\n",
       "   {'source': 'chunk_8.txt'},\n",
       "   {'source': 'chunk_0.txt'},\n",
       "   {'source': 'chunk_7.txt'},\n",
       "   {'source': 'chunk_25.txt'}]],\n",
       " 'embeddings': None,\n",
       " 'documents': [['Maşın Öyrənməsi Alqoritmləri və Modelləri Maşın öyrənməsi alqoritmləri və modelləri, kompüterlərin məlumatlar əsasında öyrənmək və proqnozlar vermək qabiliyyətini təmin edir. Bu alqoritmlər müxtəlif kateqoriyalara bölünür: 4.1. Nəzarətli Öyrənmə (Supervised Learning) Nəzarətli öyrənmədə, alqoritm giriş məlumatları və onlara uyğun çıxış nəticələri əsasında öyrənir. Məqsəd, yeni giriş məlumatları üçün dəqiq çıxış nəticələrini proqnozlaşdıra bilən bir model yaratmaqdır.Əsas nəzarətli öyrənmə alqoritmlərinə aşağıdakılar daxildir: • Xətti Reqressiya (Linear Regression): Bir və ya bir neçə müstəqil dəyişən əsasında asılı dəyişəni proqnozlaşdırmaq üçün istifadə olunur. • Loqistik Reqressiya (Logistic Regression): İkili təsnifat problemləri üçün istifadə olunur, məsələn, e-poçtun spam olub-olmadığını təyin etmək. • Qərar Ağacları (Decision Trees): Məlumatları bir sıra qərar qaydalarına əsaslanaraq təsnif edir. • Təsadüfi Meşə (Random Forest): Bir çox qərar ağacının nəticələrini birləşdirərək daha dəqiq proqnozlar verir.',\n",
       "   '• Rekurrent Sinir Şəbəkələri (Recurrent Neural Networks, RNN): Ardıcıl məlumatların emalı üçün istifadə olunur, məsələn, mətn və ya zaman seriyası. • Long Short-Term Memory (LSTM): RNN-in bir növüdür və uzunmüddətli asılılıqları öyrənmək qabiliyyətinə malikdir. • Transformer: Diqqət mexanizmlərinə əsaslanan və təbii dil emalında geniş istifadə olunan model. • Generative Adversarial Networks (GAN): Yeni məlumatlar generasiya etmək üçün istifadə olunan iki sinir şəbəkəsinin qarşılıqlı rəqabətinə əsaslanan model. Azərbaycanda bu alqoritmlərin və modellərin tətbiqi müxtəlif sahələrdə həyata keçirilir. Məsələn, banklar kredit skorinq sistemlərində nəzarətli öyrənmə metodlarından, pərakəndə satış şirkətləri müştəri seqmentasiyası üçün nəzarətsiz öyrənmə metodlarından, oyun və əyləncə sənayesi isə gücləndirilmiş öyrənmə metodlarından istifadə edir. Dərin öyrənmə modelləri isə əsasən təsvir və mətn tanıma, təbii dil emalı və səs tanıma kimi sahələrdə tətbiq olunur. 5.',\n",
       "   'Azərbaycanda Süni İntellekt və Maşın Öyrənməsi: Tarixi, İnkişafı və Gələcəyi 1. Giriş Süni intellekt (Sİ) və maşın öyrənməsi (MÖ) sahələri son illərdə bütün dünyada sürətlə inkişaf edir. Bu inkişaf Azərbaycanda da özünü göstərməkdədir. Süni intellekt, kompüterlərin insan zəkası tələb edən tapşırıqları yerinə yetirmək qabiliyyətidir. Bu, görüntüləri tanımaq, danışığı başa düşmək, qərarlar vermək və təbii dildə ünsiyyət qurmaq kimi bacarıqları əhatə edir. Maşın öyrənməsi isə kompüterlərin məlumatlar əsasında öyrənmək və təkmilləşmək qabiliyyətidir. Bu, təcrübədən öyrənən və davamlı olaraq təkmilləşən sistemlərin yaradılmasına imkan verir. Süni intellekt və maşın öyrənməsi bir çox sahələrdə, o cümlədən səhiyyə, maliyyə, təhsil və nəqliyyatda inqilabi dəyişikliklərə səbəb olur. Azərbaycan, öz rəqəmsal transformasiya strategiyası çərçivəsində süni intellekt və maşın öyrənməsi texnologiyalarının tətbiqinə və inkişafına xüsusi diqqət yetirir.',\n",
       "   'Gücləndirilmiş Öyrənmə (Reinforcement Learning) Gücləndirilmiş öyrənmədə, agent ətraf mühitlə qarşılıqlı əlaqədə olaraq, aldığı mükafat və ya cəzalara əsasən optimal strategiyanı öyrənir. Bu növ öyrənmə, oyunlar, robot idarəetməsi və avtomatik ticarət kimi sahələrdə istifadə olunur. Əsas gücləndirilmiş öyrənmə alqoritmlərinə aşağıdakılar daxildir: • Q-Learning: Agent müxtəlif vəziyyətlərdə fərqli hərəkətlərin dəyərini öyrənir. • Deep Q Network (DQN): Q-learning alqoritmini dərin sinir şəbəkələri ilə birləşdirir. • Policy Gradient Methods: Agentin davranış siyasətini birbaşa optimallaşdırır. 4.4. Dərin Öyrənmə (Deep Learning) Dərin öyrənmə, çoxqatlı sinir şəbəkələrindən istifadə edərək böyük həcmli və kompleks məlumatları emal etmək üçün istifadə olunan maşın öyrənməsinin bir alt sahəsidir. Əsas dərin öyrənmə modellərinə aşağıdakılar daxildir: • Konvolyusional Sinir Şəbəkələri (Convolutional Neural Networks, CNN): Təsvirlərin emalı və tanınması üçün istifadə olunur.',\n",
       "   '• İnsan qabiliyyətlərinin genişləndirilməsi: Süni intellekt vasitəsilə insan qabiliyyətlərinin gücləndirilməsi və genişləndirilməsi. • Hibrid iş modelləri: İnsan və süni intellekt sistemlərinin birgə işlədiyi hibrid iş modelləri. • Personalizasiya və adaptasiya: İnsanların fərdi ehtiyaclarına və üstünlüklərinə uyğunlaşa bilən süni intellekt sistemləri. • Etik və insan mərkəzli süni intellekt: İnsan dəyərlərinə və etik prinsiplərə uyğun hazırlanmış süni intellekt sistemləri. 10. Nəticə Süni intellekt və maşın öyrənməsi texnologiyaları dünyada və Azərbaycanda sürətlə inkişaf edir və müxtəlif sahələrdə tətbiq olunur. Bu texnologiyalar iqtisadiyyatın müxtəlif sektorlarında effektivliyi artırmaq, yeni imkanlar yaratmaq və həyat keyfiyyətini yaxşılaşdırmaq potensialına malikdir. Azərbaycanda süni intellekt və maşın öyrənməsi sahəsində bir sıra təşəbbüslər və layihələr həyata keçirilir. Bu sahədə kadr hazırlığı, innovasiya ekosisteminin inkişafı və texnologiyaların müxtəlif sahələrdə tətbiqi üçün səylər davam edir.']],\n",
       " 'uris': None,\n",
       " 'data': None}"
      ]
     },
     "execution_count": 31,
     "metadata": {},
     "output_type": "execute_result"
    }
   ],
   "source": [
    "bge_result"
   ]
  },
  {
   "cell_type": "code",
   "execution_count": null,
   "metadata": {},
   "outputs": [],
   "source": []
  }
 ],
 "metadata": {
  "kernelspec": {
   "display_name": "rag",
   "language": "python",
   "name": "python3"
  },
  "language_info": {
   "codemirror_mode": {
    "name": "ipython",
    "version": 3
   },
   "file_extension": ".py",
   "mimetype": "text/x-python",
   "name": "python",
   "nbconvert_exporter": "python",
   "pygments_lexer": "ipython3",
   "version": "3.10.15"
  }
 },
 "nbformat": 4,
 "nbformat_minor": 2
}
