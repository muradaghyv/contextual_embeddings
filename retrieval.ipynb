{
 "cells": [
  {
   "cell_type": "code",
   "execution_count": 11,
   "metadata": {},
   "outputs": [],
   "source": [
    "import torch\n",
    "import chromadb\n",
    "\n",
    "from preprocessor import Preprocessor\n",
    "\n",
    "from FlagEmbedding import BGEM3FlagModel\n",
    "from transformers import XLMRobertaModel, XLMRobertaTokenizer\n",
    "from sentence_transformers import SentenceTransformer"
   ]
  },
  {
   "cell_type": "markdown",
   "metadata": {},
   "source": [
    "## Importing models and databases"
   ]
  },
  {
   "cell_type": "code",
   "execution_count": 6,
   "metadata": {},
   "outputs": [],
   "source": [
    "xlm_tokenizer = XLMRobertaTokenizer.from_pretrained(\"xlm-roberta-base\")\n",
    "xlm_model = XLMRobertaModel.from_pretrained(\"xlm-roberta-base\")"
   ]
  },
  {
   "cell_type": "code",
   "execution_count": 12,
   "metadata": {},
   "outputs": [],
   "source": [
    "xlm_client = chromadb.PersistentClient(\n",
    "    path=\"/home/murad/Documents/self-study/contextual_embeddings/databases/xlm_collection\"\n",
    ")\n",
    "\n",
    "xlm_collection = xlm_client.get_collection(\"pdf_chunks\")"
   ]
  },
  {
   "cell_type": "code",
   "execution_count": 7,
   "metadata": {},
   "outputs": [
    {
     "data": {
      "application/vnd.jupyter.widget-view+json": {
       "model_id": "7699cecc35384b4fa9b0b7a1800d700b",
       "version_major": 2,
       "version_minor": 0
      },
      "text/plain": [
       "Fetching 30 files:   0%|          | 0/30 [00:00<?, ?it/s]"
      ]
     },
     "metadata": {},
     "output_type": "display_data"
    }
   ],
   "source": [
    "bge_model = BGEM3FlagModel(\n",
    "    model_name_or_path=\"BAAI/bge-m3\",\n",
    "    use_fp16=True\n",
    ")"
   ]
  },
  {
   "cell_type": "code",
   "execution_count": 13,
   "metadata": {},
   "outputs": [],
   "source": [
    "bge_client = chromadb.PersistentClient(\n",
    "    path=\"/home/murad/Documents/self-study/contextual_embeddings/databases/bge_collection\"\n",
    ")\n",
    "bge_collection = bge_client.get_collection(\"pdf_chunks\")"
   ]
  },
  {
   "cell_type": "code",
   "execution_count": 8,
   "metadata": {},
   "outputs": [],
   "source": [
    "labse_model = SentenceTransformer(\n",
    "    model_name_or_path=\"sentence-transformers/LaBSE\"\n",
    ")"
   ]
  },
  {
   "cell_type": "code",
   "execution_count": 14,
   "metadata": {},
   "outputs": [],
   "source": [
    "labse_client = chromadb.PersistentClient(\n",
    "    path=\"/home/murad/Documents/self-study/contextual_embeddings/databases/labse_collection\"\n",
    ")\n",
    "labse_collection = labse_client.get_collection(\"pdf_chunks\")"
   ]
  },
  {
   "cell_type": "markdown",
   "metadata": {},
   "source": [
    "## Query"
   ]
  },
  {
   "cell_type": "code",
   "execution_count": 9,
   "metadata": {},
   "outputs": [],
   "source": [
    "query = \"Nəzarətsiz öyrənmə nədir?\""
   ]
  },
  {
   "cell_type": "markdown",
   "metadata": {},
   "source": [
    "### XLM RoBERTa model result"
   ]
  },
  {
   "cell_type": "code",
   "execution_count": 22,
   "metadata": {},
   "outputs": [],
   "source": [
    "xlm_model.eval()\n",
    "\n",
    "with torch.no_grad():\n",
    "    inputs = xlm_tokenizer(query, return_tensors=\"pt\", padding=True)\n",
    "    outputs = xlm_model(**inputs)\n",
    "    query_embedding_xlm = outputs.last_hidden_state[:, 0, :].squeeze(0).numpy().tolist()"
   ]
  },
  {
   "cell_type": "code",
   "execution_count": 23,
   "metadata": {},
   "outputs": [],
   "source": [
    "xlm_result = xlm_collection.query(\n",
    "    query_embeddings=query_embedding_xlm,\n",
    "    n_results=5,\n",
    "    include=[\"distances\", \"metadatas\", \"documents\"]\n",
    ")"
   ]
  },
  {
   "cell_type": "code",
   "execution_count": 24,
   "metadata": {},
   "outputs": [],
   "source": [
    "with open(\"xlm_result.txt\", \"w\", encoding=\"utf-8\") as f:\n",
    "    f.write(str(xlm_result[\"documents\"]))"
   ]
  },
  {
   "cell_type": "markdown",
   "metadata": {},
   "source": [
    "### BGE-M3 model result"
   ]
  },
  {
   "cell_type": "code",
   "execution_count": 28,
   "metadata": {},
   "outputs": [],
   "source": [
    "query_embedding_bge = bge_model.encode(sentences=query,\n",
    "                                       max_length=1024,\n",
    "                                       batch_size=12)['dense_vecs']\n",
    "query_embedding_bge = query_embedding_bge.tolist()"
   ]
  },
  {
   "cell_type": "code",
   "execution_count": 29,
   "metadata": {},
   "outputs": [],
   "source": [
    "bge_result = bge_collection.query(\n",
    "    query_embeddings=query_embedding_bge,\n",
    "    n_results=5,\n",
    "    include=[\"distances\", \"metadatas\", \"documents\"]\n",
    ")"
   ]
  },
  {
   "cell_type": "code",
   "execution_count": 30,
   "metadata": {},
   "outputs": [],
   "source": [
    "with open(\"bge_result.txt\", \"w\", encoding=\"utf-8\") as f:\n",
    "    f.write(str(bge_result[\"documents\"]))"
   ]
  },
  {
   "cell_type": "markdown",
   "metadata": {},
   "source": [
    "### LaBSE model result"
   ]
  },
  {
   "cell_type": "code",
   "execution_count": 32,
   "metadata": {},
   "outputs": [],
   "source": [
    "query_embedding_labse = labse_model.encode(sentences=query)\n",
    "query_embedding_labse = query_embedding_labse.tolist()"
   ]
  },
  {
   "cell_type": "code",
   "execution_count": 33,
   "metadata": {},
   "outputs": [],
   "source": [
    "labse_result = labse_collection.query(\n",
    "    query_embeddings=query_embedding_labse,\n",
    "    n_results=5,\n",
    "    include=[\"distances\", \"metadatas\", \"documents\"]\n",
    ")"
   ]
  },
  {
   "cell_type": "code",
   "execution_count": 34,
   "metadata": {},
   "outputs": [],
   "source": [
    "with open(\"labse_result.txt\", \"w\", encoding=\"utf-8\") as f:\n",
    "    f.write(str(labse_result[\"documents\"]))"
   ]
  },
  {
   "cell_type": "code",
   "execution_count": null,
   "metadata": {},
   "outputs": [],
   "source": []
  }
 ],
 "metadata": {
  "kernelspec": {
   "display_name": "rag",
   "language": "python",
   "name": "python3"
  },
  "language_info": {
   "codemirror_mode": {
    "name": "ipython",
    "version": 3
   },
   "file_extension": ".py",
   "mimetype": "text/x-python",
   "name": "python",
   "nbconvert_exporter": "python",
   "pygments_lexer": "ipython3",
   "version": "3.10.15"
  }
 },
 "nbformat": 4,
 "nbformat_minor": 2
}
